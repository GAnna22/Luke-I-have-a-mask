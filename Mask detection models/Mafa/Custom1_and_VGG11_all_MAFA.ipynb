{
  "nbformat": 4,
  "nbformat_minor": 0,
  "metadata": {
    "accelerator": "GPU",
    "colab": {
      "name": "Model_training",
      "provenance": [],
      "collapsed_sections": [],
      "toc_visible": true,
      "machine_shape": "hm"
    },
    "kernelspec": {
      "display_name": "Python 3",
      "language": "python",
      "name": "python3"
    },
    "language_info": {
      "codemirror_mode": {
        "name": "ipython",
        "version": 3
      },
      "file_extension": ".py",
      "mimetype": "text/x-python",
      "name": "python",
      "nbconvert_exporter": "python",
      "pygments_lexer": "ipython3",
      "version": "3.6.9"
    },
    "widgets": {
      "application/vnd.jupyter.widget-state+json": {
        "111b750ed87a4272908fd627211a08f9": {
          "model_module": "@jupyter-widgets/controls",
          "model_name": "HBoxModel",
          "state": {
            "_view_name": "HBoxView",
            "_dom_classes": [],
            "_model_name": "HBoxModel",
            "_view_module": "@jupyter-widgets/controls",
            "_model_module_version": "1.5.0",
            "_view_count": null,
            "_view_module_version": "1.5.0",
            "box_style": "",
            "layout": "IPY_MODEL_b36a4da152ff4ab0b7c3e6dafebcc71b",
            "_model_module": "@jupyter-widgets/controls",
            "children": [
              "IPY_MODEL_33fb5666e48e4935bb52da4fa275cc5c",
              "IPY_MODEL_becc88f8a2954d689e94885ac84a1e57"
            ]
          }
        },
        "b36a4da152ff4ab0b7c3e6dafebcc71b": {
          "model_module": "@jupyter-widgets/base",
          "model_name": "LayoutModel",
          "state": {
            "_view_name": "LayoutView",
            "grid_template_rows": null,
            "right": null,
            "justify_content": null,
            "_view_module": "@jupyter-widgets/base",
            "overflow": null,
            "_model_module_version": "1.2.0",
            "_view_count": null,
            "flex_flow": null,
            "width": null,
            "min_width": null,
            "border": null,
            "align_items": null,
            "bottom": null,
            "_model_module": "@jupyter-widgets/base",
            "top": null,
            "grid_column": null,
            "overflow_y": null,
            "overflow_x": null,
            "grid_auto_flow": null,
            "grid_area": null,
            "grid_template_columns": null,
            "flex": null,
            "_model_name": "LayoutModel",
            "justify_items": null,
            "grid_row": null,
            "max_height": null,
            "align_content": null,
            "visibility": null,
            "align_self": null,
            "height": null,
            "min_height": null,
            "padding": null,
            "grid_auto_rows": null,
            "grid_gap": null,
            "max_width": null,
            "order": null,
            "_view_module_version": "1.2.0",
            "grid_template_areas": null,
            "object_position": null,
            "object_fit": null,
            "grid_auto_columns": null,
            "margin": null,
            "display": null,
            "left": null
          }
        },
        "33fb5666e48e4935bb52da4fa275cc5c": {
          "model_module": "@jupyter-widgets/controls",
          "model_name": "FloatProgressModel",
          "state": {
            "_view_name": "ProgressView",
            "style": "IPY_MODEL_e9e245d445724ebbabce1f3c0349af5c",
            "_dom_classes": [],
            "description": "100%",
            "_model_name": "FloatProgressModel",
            "bar_style": "success",
            "max": 14212972,
            "_view_module": "@jupyter-widgets/controls",
            "_model_module_version": "1.5.0",
            "value": 14212972,
            "_view_count": null,
            "_view_module_version": "1.5.0",
            "orientation": "horizontal",
            "min": 0,
            "description_tooltip": null,
            "_model_module": "@jupyter-widgets/controls",
            "layout": "IPY_MODEL_795ce00430a74e7c972be1ef7585eaa5"
          }
        },
        "becc88f8a2954d689e94885ac84a1e57": {
          "model_module": "@jupyter-widgets/controls",
          "model_name": "HTMLModel",
          "state": {
            "_view_name": "HTMLView",
            "style": "IPY_MODEL_f6485f5a4c4649a1872ea43a5c32ec11",
            "_dom_classes": [],
            "description": "",
            "_model_name": "HTMLModel",
            "placeholder": "​",
            "_view_module": "@jupyter-widgets/controls",
            "_model_module_version": "1.5.0",
            "value": " 13.6M/13.6M [03:05&lt;00:00, 76.6kB/s]",
            "_view_count": null,
            "_view_module_version": "1.5.0",
            "description_tooltip": null,
            "_model_module": "@jupyter-widgets/controls",
            "layout": "IPY_MODEL_1164f243625f42dea8abf5dff8a6e185"
          }
        },
        "e9e245d445724ebbabce1f3c0349af5c": {
          "model_module": "@jupyter-widgets/controls",
          "model_name": "ProgressStyleModel",
          "state": {
            "_view_name": "StyleView",
            "_model_name": "ProgressStyleModel",
            "description_width": "initial",
            "_view_module": "@jupyter-widgets/base",
            "_model_module_version": "1.5.0",
            "_view_count": null,
            "_view_module_version": "1.2.0",
            "bar_color": null,
            "_model_module": "@jupyter-widgets/controls"
          }
        },
        "795ce00430a74e7c972be1ef7585eaa5": {
          "model_module": "@jupyter-widgets/base",
          "model_name": "LayoutModel",
          "state": {
            "_view_name": "LayoutView",
            "grid_template_rows": null,
            "right": null,
            "justify_content": null,
            "_view_module": "@jupyter-widgets/base",
            "overflow": null,
            "_model_module_version": "1.2.0",
            "_view_count": null,
            "flex_flow": null,
            "width": null,
            "min_width": null,
            "border": null,
            "align_items": null,
            "bottom": null,
            "_model_module": "@jupyter-widgets/base",
            "top": null,
            "grid_column": null,
            "overflow_y": null,
            "overflow_x": null,
            "grid_auto_flow": null,
            "grid_area": null,
            "grid_template_columns": null,
            "flex": null,
            "_model_name": "LayoutModel",
            "justify_items": null,
            "grid_row": null,
            "max_height": null,
            "align_content": null,
            "visibility": null,
            "align_self": null,
            "height": null,
            "min_height": null,
            "padding": null,
            "grid_auto_rows": null,
            "grid_gap": null,
            "max_width": null,
            "order": null,
            "_view_module_version": "1.2.0",
            "grid_template_areas": null,
            "object_position": null,
            "object_fit": null,
            "grid_auto_columns": null,
            "margin": null,
            "display": null,
            "left": null
          }
        },
        "f6485f5a4c4649a1872ea43a5c32ec11": {
          "model_module": "@jupyter-widgets/controls",
          "model_name": "DescriptionStyleModel",
          "state": {
            "_view_name": "StyleView",
            "_model_name": "DescriptionStyleModel",
            "description_width": "",
            "_view_module": "@jupyter-widgets/base",
            "_model_module_version": "1.5.0",
            "_view_count": null,
            "_view_module_version": "1.2.0",
            "_model_module": "@jupyter-widgets/controls"
          }
        },
        "1164f243625f42dea8abf5dff8a6e185": {
          "model_module": "@jupyter-widgets/base",
          "model_name": "LayoutModel",
          "state": {
            "_view_name": "LayoutView",
            "grid_template_rows": null,
            "right": null,
            "justify_content": null,
            "_view_module": "@jupyter-widgets/base",
            "overflow": null,
            "_model_module_version": "1.2.0",
            "_view_count": null,
            "flex_flow": null,
            "width": null,
            "min_width": null,
            "border": null,
            "align_items": null,
            "bottom": null,
            "_model_module": "@jupyter-widgets/base",
            "top": null,
            "grid_column": null,
            "overflow_y": null,
            "overflow_x": null,
            "grid_auto_flow": null,
            "grid_area": null,
            "grid_template_columns": null,
            "flex": null,
            "_model_name": "LayoutModel",
            "justify_items": null,
            "grid_row": null,
            "max_height": null,
            "align_content": null,
            "visibility": null,
            "align_self": null,
            "height": null,
            "min_height": null,
            "padding": null,
            "grid_auto_rows": null,
            "grid_gap": null,
            "max_width": null,
            "order": null,
            "_view_module_version": "1.2.0",
            "grid_template_areas": null,
            "object_position": null,
            "object_fit": null,
            "grid_auto_columns": null,
            "margin": null,
            "display": null,
            "left": null
          }
        },
        "785f11da468c442eaba47f551420a0ab": {
          "model_module": "@jupyter-widgets/controls",
          "model_name": "HBoxModel",
          "state": {
            "_view_name": "HBoxView",
            "_dom_classes": [],
            "_model_name": "HBoxModel",
            "_view_module": "@jupyter-widgets/controls",
            "_model_module_version": "1.5.0",
            "_view_count": null,
            "_view_module_version": "1.5.0",
            "box_style": "",
            "layout": "IPY_MODEL_8b1617574df244ff9e3ae73320d428e1",
            "_model_module": "@jupyter-widgets/controls",
            "children": [
              "IPY_MODEL_7b14739a28b74f15bcb5578407c4b200",
              "IPY_MODEL_d7ebfb1775ac46fe80d43217a3b4d364"
            ]
          }
        },
        "8b1617574df244ff9e3ae73320d428e1": {
          "model_module": "@jupyter-widgets/base",
          "model_name": "LayoutModel",
          "state": {
            "_view_name": "LayoutView",
            "grid_template_rows": null,
            "right": null,
            "justify_content": null,
            "_view_module": "@jupyter-widgets/base",
            "overflow": null,
            "_model_module_version": "1.2.0",
            "_view_count": null,
            "flex_flow": null,
            "width": null,
            "min_width": null,
            "border": null,
            "align_items": null,
            "bottom": null,
            "_model_module": "@jupyter-widgets/base",
            "top": null,
            "grid_column": null,
            "overflow_y": null,
            "overflow_x": null,
            "grid_auto_flow": null,
            "grid_area": null,
            "grid_template_columns": null,
            "flex": null,
            "_model_name": "LayoutModel",
            "justify_items": null,
            "grid_row": null,
            "max_height": null,
            "align_content": null,
            "visibility": null,
            "align_self": null,
            "height": null,
            "min_height": null,
            "padding": null,
            "grid_auto_rows": null,
            "grid_gap": null,
            "max_width": null,
            "order": null,
            "_view_module_version": "1.2.0",
            "grid_template_areas": null,
            "object_position": null,
            "object_fit": null,
            "grid_auto_columns": null,
            "margin": null,
            "display": null,
            "left": null
          }
        },
        "7b14739a28b74f15bcb5578407c4b200": {
          "model_module": "@jupyter-widgets/controls",
          "model_name": "FloatProgressModel",
          "state": {
            "_view_name": "ProgressView",
            "style": "IPY_MODEL_97a5eb19ee8a445e9eee7b25e318b8ec",
            "_dom_classes": [],
            "description": "100%",
            "_model_name": "FloatProgressModel",
            "bar_style": "success",
            "max": 531503671,
            "_view_module": "@jupyter-widgets/controls",
            "_model_module_version": "1.5.0",
            "value": 531503671,
            "_view_count": null,
            "_view_module_version": "1.5.0",
            "orientation": "horizontal",
            "min": 0,
            "description_tooltip": null,
            "_model_module": "@jupyter-widgets/controls",
            "layout": "IPY_MODEL_037f390b4c6c4bfdb1c94c204280733d"
          }
        },
        "d7ebfb1775ac46fe80d43217a3b4d364": {
          "model_module": "@jupyter-widgets/controls",
          "model_name": "HTMLModel",
          "state": {
            "_view_name": "HTMLView",
            "style": "IPY_MODEL_507e08b3d82f466f90cdd1e5067bf5f9",
            "_dom_classes": [],
            "description": "",
            "_model_name": "HTMLModel",
            "placeholder": "​",
            "_view_module": "@jupyter-widgets/controls",
            "_model_module_version": "1.5.0",
            "value": " 507M/507M [02:42&lt;00:00, 3.27MB/s]",
            "_view_count": null,
            "_view_module_version": "1.5.0",
            "description_tooltip": null,
            "_model_module": "@jupyter-widgets/controls",
            "layout": "IPY_MODEL_a63dedb070444056a3e42f03d7c18525"
          }
        },
        "97a5eb19ee8a445e9eee7b25e318b8ec": {
          "model_module": "@jupyter-widgets/controls",
          "model_name": "ProgressStyleModel",
          "state": {
            "_view_name": "StyleView",
            "_model_name": "ProgressStyleModel",
            "description_width": "initial",
            "_view_module": "@jupyter-widgets/base",
            "_model_module_version": "1.5.0",
            "_view_count": null,
            "_view_module_version": "1.2.0",
            "bar_color": null,
            "_model_module": "@jupyter-widgets/controls"
          }
        },
        "037f390b4c6c4bfdb1c94c204280733d": {
          "model_module": "@jupyter-widgets/base",
          "model_name": "LayoutModel",
          "state": {
            "_view_name": "LayoutView",
            "grid_template_rows": null,
            "right": null,
            "justify_content": null,
            "_view_module": "@jupyter-widgets/base",
            "overflow": null,
            "_model_module_version": "1.2.0",
            "_view_count": null,
            "flex_flow": null,
            "width": null,
            "min_width": null,
            "border": null,
            "align_items": null,
            "bottom": null,
            "_model_module": "@jupyter-widgets/base",
            "top": null,
            "grid_column": null,
            "overflow_y": null,
            "overflow_x": null,
            "grid_auto_flow": null,
            "grid_area": null,
            "grid_template_columns": null,
            "flex": null,
            "_model_name": "LayoutModel",
            "justify_items": null,
            "grid_row": null,
            "max_height": null,
            "align_content": null,
            "visibility": null,
            "align_self": null,
            "height": null,
            "min_height": null,
            "padding": null,
            "grid_auto_rows": null,
            "grid_gap": null,
            "max_width": null,
            "order": null,
            "_view_module_version": "1.2.0",
            "grid_template_areas": null,
            "object_position": null,
            "object_fit": null,
            "grid_auto_columns": null,
            "margin": null,
            "display": null,
            "left": null
          }
        },
        "507e08b3d82f466f90cdd1e5067bf5f9": {
          "model_module": "@jupyter-widgets/controls",
          "model_name": "DescriptionStyleModel",
          "state": {
            "_view_name": "StyleView",
            "_model_name": "DescriptionStyleModel",
            "description_width": "",
            "_view_module": "@jupyter-widgets/base",
            "_model_module_version": "1.5.0",
            "_view_count": null,
            "_view_module_version": "1.2.0",
            "_model_module": "@jupyter-widgets/controls"
          }
        },
        "a63dedb070444056a3e42f03d7c18525": {
          "model_module": "@jupyter-widgets/base",
          "model_name": "LayoutModel",
          "state": {
            "_view_name": "LayoutView",
            "grid_template_rows": null,
            "right": null,
            "justify_content": null,
            "_view_module": "@jupyter-widgets/base",
            "overflow": null,
            "_model_module_version": "1.2.0",
            "_view_count": null,
            "flex_flow": null,
            "width": null,
            "min_width": null,
            "border": null,
            "align_items": null,
            "bottom": null,
            "_model_module": "@jupyter-widgets/base",
            "top": null,
            "grid_column": null,
            "overflow_y": null,
            "overflow_x": null,
            "grid_auto_flow": null,
            "grid_area": null,
            "grid_template_columns": null,
            "flex": null,
            "_model_name": "LayoutModel",
            "justify_items": null,
            "grid_row": null,
            "max_height": null,
            "align_content": null,
            "visibility": null,
            "align_self": null,
            "height": null,
            "min_height": null,
            "padding": null,
            "grid_auto_rows": null,
            "grid_gap": null,
            "max_width": null,
            "order": null,
            "_view_module_version": "1.2.0",
            "grid_template_areas": null,
            "object_position": null,
            "object_fit": null,
            "grid_auto_columns": null,
            "margin": null,
            "display": null,
            "left": null
          }
        }
      }
    }
  },
  "cells": [
    {
      "cell_type": "markdown",
      "metadata": {
        "colab_type": "text",
        "id": "TpVRB4G1V-XT"
      },
      "source": [
        "# Face Mask Detection With Transfer Learning"
      ]
    },
    {
      "cell_type": "code",
      "metadata": {
        "id": "7XoDjsk5_cHJ",
        "colab_type": "code",
        "outputId": "721889e4-cbe3-41dc-88a7-648c16a03f91",
        "colab": {
          "base_uri": "https://localhost:8080/",
          "height": 88
        }
      },
      "source": [
        "!pip install xmltodict\n",
        "\n",
        "import os\n",
        "import cv2\n",
        "import matplotlib.pyplot as plt\n",
        "import xmltodict\n",
        "import random\n",
        "from os import listdir\n",
        "from os.path import isfile, join\n",
        "import torchvision \n",
        "import torch\n",
        "import torchvision.models as models\n",
        "import torchvision.transforms as transforms\n",
        "import torchvision.datasets as datasets"
      ],
      "execution_count": 1,
      "outputs": [
        {
          "output_type": "stream",
          "text": [
            "Collecting xmltodict\n",
            "  Downloading https://files.pythonhosted.org/packages/28/fd/30d5c1d3ac29ce229f6bdc40bbc20b28f716e8b363140c26eff19122d8a5/xmltodict-0.12.0-py2.py3-none-any.whl\n",
            "Installing collected packages: xmltodict\n",
            "Successfully installed xmltodict-0.12.0\n"
          ],
          "name": "stdout"
        }
      ]
    },
    {
      "cell_type": "code",
      "metadata": {
        "id": "4bokbdRMibUb",
        "colab_type": "code",
        "outputId": "06db12db-80f2-491d-dd21-f29876744a61",
        "colab": {
          "base_uri": "https://localhost:8080/",
          "height": 72
        }
      },
      "source": [
        "from sklearn.metrics import confusion_matrix, roc_curve\n",
        "import seaborn as sns"
      ],
      "execution_count": 2,
      "outputs": [
        {
          "output_type": "stream",
          "text": [
            "/usr/local/lib/python3.6/dist-packages/statsmodels/tools/_testing.py:19: FutureWarning: pandas.util.testing is deprecated. Use the functions in the public API at pandas.testing instead.\n",
            "  import pandas.util.testing as tm\n"
          ],
          "name": "stderr"
        }
      ]
    },
    {
      "cell_type": "code",
      "metadata": {
        "id": "VE6aULglhkFU",
        "colab_type": "code",
        "colab": {}
      },
      "source": [
        "import numpy as np\n",
        "import scipy.io\n",
        "import PIL\n",
        "from tqdm import trange, tqdm\n",
        "\n",
        "torch.manual_seed(666) # for reproducibility\n",
        "import random\n",
        "random.seed(666)"
      ],
      "execution_count": 0,
      "outputs": []
    },
    {
      "cell_type": "code",
      "metadata": {
        "id": "rXhCejPH_9p9",
        "colab_type": "code",
        "outputId": "987f4a99-34e8-4fb4-c9a9-e789dee108e6",
        "colab": {
          "base_uri": "https://localhost:8080/",
          "height": 126
        }
      },
      "source": [
        "from pathlib import Path\n",
        "import google.colab\n",
        "google.colab.drive.mount(\"/content/drive\")\n",
        "AUX_DATA_ROOT = Path(\"/content/drive/My Drive/Colab Notebooks/project\")\n",
        "\n",
        "assert AUX_DATA_ROOT.is_dir(), \"Have you forgot to 'Add a shortcut to Drive'?\"\n",
        "\n",
        "import sys\n",
        "sys.path.insert(0, str(AUX_DATA_ROOT))"
      ],
      "execution_count": 4,
      "outputs": [
        {
          "output_type": "stream",
          "text": [
            "Go to this URL in a browser: https://accounts.google.com/o/oauth2/auth?client_id=947318989803-6bn6qk8qdgf4n4g3pfee6491hc0brc4i.apps.googleusercontent.com&redirect_uri=urn%3aietf%3awg%3aoauth%3a2.0%3aoob&response_type=code&scope=email%20https%3a%2f%2fwww.googleapis.com%2fauth%2fdocs.test%20https%3a%2f%2fwww.googleapis.com%2fauth%2fdrive%20https%3a%2f%2fwww.googleapis.com%2fauth%2fdrive.photos.readonly%20https%3a%2f%2fwww.googleapis.com%2fauth%2fpeopleapi.readonly\n",
            "\n",
            "Enter your authorization code:\n",
            "··········\n",
            "Mounted at /content/drive\n"
          ],
          "name": "stdout"
        }
      ]
    },
    {
      "cell_type": "code",
      "metadata": {
        "id": "gyX6jyzA1aiY",
        "colab_type": "code",
        "outputId": "9ca0dd90-6b4e-425a-c61a-e85846ef532b",
        "colab": {
          "base_uri": "https://localhost:8080/",
          "height": 319
        }
      },
      "source": [
        "!nvidia-smi"
      ],
      "execution_count": 0,
      "outputs": [
        {
          "output_type": "stream",
          "text": [
            "Wed Jun  3 02:54:49 2020       \n",
            "+-----------------------------------------------------------------------------+\n",
            "| NVIDIA-SMI 440.82       Driver Version: 418.67       CUDA Version: 10.1     |\n",
            "|-------------------------------+----------------------+----------------------+\n",
            "| GPU  Name        Persistence-M| Bus-Id        Disp.A | Volatile Uncorr. ECC |\n",
            "| Fan  Temp  Perf  Pwr:Usage/Cap|         Memory-Usage | GPU-Util  Compute M. |\n",
            "|===============================+======================+======================|\n",
            "|   0  Tesla P100-PCIE...  Off  | 00000000:00:04.0 Off |                    0 |\n",
            "| N/A   38C    P0    27W / 250W |      0MiB / 16280MiB |      0%      Default |\n",
            "+-------------------------------+----------------------+----------------------+\n",
            "                                                                               \n",
            "+-----------------------------------------------------------------------------+\n",
            "| Processes:                                                       GPU Memory |\n",
            "|  GPU       PID   Type   Process name                             Usage      |\n",
            "|=============================================================================|\n",
            "|  No running processes found                                                 |\n",
            "+-----------------------------------------------------------------------------+\n"
          ],
          "name": "stdout"
        }
      ]
    },
    {
      "cell_type": "code",
      "metadata": {
        "id": "Umtqi7nvAYVe",
        "colab_type": "code",
        "outputId": "077d0653-2812-41c0-ee14-ebf32cfcd1c3",
        "colab": {
          "base_uri": "https://localhost:8080/",
          "height": 35
        }
      },
      "source": [
        "cd '/content'"
      ],
      "execution_count": 5,
      "outputs": [
        {
          "output_type": "stream",
          "text": [
            "/content\n"
          ],
          "name": "stdout"
        }
      ]
    },
    {
      "cell_type": "code",
      "metadata": {
        "id": "DX0Qe-XezgeI",
        "colab_type": "code",
        "colab": {}
      },
      "source": [
        "# Extract bundle_archive dataset into the current directory\n",
        "!unzip -q \"/content/drive/My Drive/Colab Notebooks/project/MultilabelDataset.zip\" -d './'"
      ],
      "execution_count": 0,
      "outputs": []
    },
    {
      "cell_type": "code",
      "metadata": {
        "id": "xGOp_cYKXKUC",
        "colab_type": "code",
        "colab": {}
      },
      "source": [
        "!mkdir 'data'\n",
        "!mkdir 'data/train'\n",
        "!mkdir 'data/test'\n",
        "!unzip -q \"/content/drive/My Drive/Colab Notebooks/project/MAFA/MAFA-Label-Test.zip\" -d 'data/test/'\n",
        "!unzip -q \"/content/drive/My Drive/Colab Notebooks/project/MAFA/MAFA-Label-Train.zip\" -d 'data/train/'\n",
        "!unzip -q \"/content/drive/My Drive/Colab Notebooks/project/MAFA/test-images.zip\" -d 'data/test/'\n",
        "!unzip -q \"/content/drive/My Drive/Colab Notebooks/project/MAFA/train-images.zip\" -d 'data/train/'"
      ],
      "execution_count": 0,
      "outputs": []
    },
    {
      "cell_type": "code",
      "metadata": {
        "id": "q90msCGkzADi",
        "colab_type": "code",
        "colab": {}
      },
      "source": [
        "def createDirectory(dirname):\n",
        "    try:\n",
        "        os.mkdir(dirname)\n",
        "    except FileExistsError:\n",
        "        print(\"Directory \" + dirname + \" already exists.\")"
      ],
      "execution_count": 0,
      "outputs": []
    },
    {
      "cell_type": "code",
      "metadata": {
        "id": "kjDvVrdCahVs",
        "colab_type": "code",
        "colab": {}
      },
      "source": [
        "models_dir = \"models/\"\n",
        "\n",
        "# dir_name = 'train/'\n",
        "# label_0_dir = dir_name + \"0/\"\n",
        "# label_1_dir = dir_name + \"1/\"\n",
        "# label_2_dir = dir_name + \"2/\"\n",
        "\n",
        "dir_name_2 = 'test/'\n",
        "label_0_dir_2 = dir_name_2 + \"0/\"\n",
        "label_1_dir_2 = dir_name_2 + \"1/\"\n",
        "label_2_dir_2 = dir_name_2 + \"2/\""
      ],
      "execution_count": 0,
      "outputs": []
    },
    {
      "cell_type": "code",
      "metadata": {
        "id": "HDYSy1-Oue-6",
        "colab_type": "code",
        "colab": {}
      },
      "source": [
        "createDirectory(models_dir)\n",
        "\n",
        "# createDirectory(dir_name)\n",
        "# createDirectory(label_0_dir)\n",
        "# createDirectory(label_1_dir)\n",
        "# createDirectory(label_2_dir)\n",
        "\n",
        "createDirectory(dir_name_2)\n",
        "createDirectory(label_0_dir_2)\n",
        "createDirectory(label_1_dir_2)\n",
        "createDirectory(label_2_dir_2)"
      ],
      "execution_count": 0,
      "outputs": []
    },
    {
      "cell_type": "code",
      "metadata": {
        "id": "VnzvT97uBNCZ",
        "colab_type": "code",
        "colab": {}
      },
      "source": [
        "# !rm -rf '/content/train/2/'"
      ],
      "execution_count": 0,
      "outputs": []
    },
    {
      "cell_type": "code",
      "metadata": {
        "id": "O_9peyakfT0N",
        "colab_type": "code",
        "colab": {}
      },
      "source": [
        "# !cp -rf '/content/drive/My Drive/Colab Notebooks/project/mask_set/2/' '/content/train/'"
      ],
      "execution_count": 0,
      "outputs": []
    },
    {
      "cell_type": "code",
      "metadata": {
        "id": "iep64zOJ0goF",
        "colab_type": "code",
        "colab": {}
      },
      "source": [
        "# !mv '/content/2/' '/content/train/'"
      ],
      "execution_count": 0,
      "outputs": []
    },
    {
      "cell_type": "code",
      "metadata": {
        "id": "xIHxgFOf1gAD",
        "colab_type": "code",
        "colab": {}
      },
      "source": [
        "def cropMAFA(target_directory, picname, pic_in_pic_ind, labels, mode='train'):\n",
        "    \"\"\"Crop image specified by filename to coordinates specified and save it to a corresponding class folder.\"\"\"\n",
        "    coords = labels[:4]\n",
        "    if mode == 'train':\n",
        "        if labels[12] == -1: labels[12] = 2\n",
        "        if labels[13] == -1: labels[13] = 1\n",
        "        good_position = (labels[12] == 1 or labels[12] == 2) and (labels[13] == 3)\n",
        "        bad_position = (labels[12] == 1 or labels[12] == 2) and (labels[13] == 2 or labels[13] == 1)\n",
        "        true_label = 0 if good_position else (2 if bad_position else 1)\n",
        "    else:\n",
        "        true_label = labels[4] - 1 if labels[4] != -1 else 3\n",
        "\n",
        "    # Open image and get height and width\n",
        "    im = PIL.Image.open('/'.join((target_directory, 'data', mode, 'images', picname))).convert('RGB')\n",
        "    # w, h = im.width, im.height\n",
        "\n",
        "    # Work out crop coordinates, top, left, bottom, right\n",
        "    l = int(coords[0])\n",
        "    t = int(coords[1])\n",
        "    r = int(coords[0] + coords[2])\n",
        "    b = int(coords[1] + coords[3])\n",
        "\n",
        "    # Crop and save\n",
        "    im = im.crop((l,t,r,b))\n",
        "    newname = '/'.join(('/content/test',\n",
        "                        str(true_label), str(pic_in_pic_ind) + '_' + picname))\n",
        "    im.save(newname)\n",
        "    return im, true_label"
      ],
      "execution_count": 0,
      "outputs": []
    },
    {
      "cell_type": "code",
      "metadata": {
        "id": "zY_0pBk_yKpP",
        "colab_type": "code",
        "outputId": "aa380aed-84c3-4d23-9e38-b0ff13e1c43b",
        "colab": {
          "base_uri": "https://localhost:8080/",
          "height": 52
        }
      },
      "source": [
        "# train part preprosessing\n",
        "\n",
        "target_directory = '/content'\n",
        "read_mode = 'train'\n",
        "\n",
        "if read_mode == 'train':\n",
        "    path_to_data, column_name = '/content/data/train/LabelTrainAll.mat', 'label_train'\n",
        "else:\n",
        "    path_to_data, column_name = '/content/data/test/LabelTestAll.mat', 'LabelTest'\n",
        "image_data = scipy.io.loadmat(path_to_data)[column_name][0]\n",
        "for pic_ind in range(len(image_data)):\n",
        "    picname = image_data[pic_ind][1][0] if read_mode == 'train' else image_data[pic_ind][0][0]\n",
        "    set_of_labels = image_data[pic_ind][2] if read_mode == 'train' else image_data[pic_ind][1]\n",
        "    for pic_in_pic_ind, im_labels in enumerate(set_of_labels):\n",
        "        _, _ = cropMAFA(target_directory, picname, pic_in_pic_ind, im_labels.astype(np.int64), read_mode)"
      ],
      "execution_count": 0,
      "outputs": [
        {
          "output_type": "stream",
          "text": [
            "/usr/local/lib/python3.6/dist-packages/PIL/TiffImagePlugin.py:788: UserWarning: Corrupt EXIF data.  Expecting to read 12 bytes but only got 4. \n",
            "  warnings.warn(str(msg))\n"
          ],
          "name": "stderr"
        }
      ]
    },
    {
      "cell_type": "code",
      "metadata": {
        "id": "PiR7F5dde99c",
        "colab_type": "code",
        "colab": {}
      },
      "source": [
        "# test part preprosessing\n",
        "\n",
        "target_directory = '/content'\n",
        "read_mode = 'test'\n",
        "\n",
        "if read_mode == 'train':\n",
        "    path_to_data, column_name = '/content/data/train/LabelTrainAll.mat', 'label_train'\n",
        "else:\n",
        "    path_to_data, column_name = '/content/data/test/LabelTestAll.mat', 'LabelTest'\n",
        "image_data = scipy.io.loadmat(path_to_data)[column_name][0]\n",
        "for pic_ind in range(len(image_data)):\n",
        "    picname = image_data[pic_ind][1][0] if read_mode == 'train' else image_data[pic_ind][0][0]\n",
        "    set_of_labels = image_data[pic_ind][2] if read_mode == 'train' else image_data[pic_ind][1]\n",
        "    for pic_in_pic_ind, im_labels in enumerate(set_of_labels):\n",
        "        _, _ = cropMAFA(target_directory, picname, pic_in_pic_ind, im_labels.astype(np.int64), read_mode)"
      ],
      "execution_count": 0,
      "outputs": []
    },
    {
      "cell_type": "code",
      "metadata": {
        "id": "VQQNzT7w2-Ye",
        "colab_type": "code",
        "colab": {}
      },
      "source": [
        "!rm -rf '/content/test/3/'"
      ],
      "execution_count": 0,
      "outputs": []
    },
    {
      "cell_type": "code",
      "metadata": {
        "id": "fWZqdbolatpm",
        "colab_type": "code",
        "colab": {}
      },
      "source": [
        "# !mv '/content/drive/My Drive/Colab Notebooks/project/' '/content/train/'"
      ],
      "execution_count": 0,
      "outputs": []
    },
    {
      "cell_type": "code",
      "metadata": {
        "id": "85DIfFc_zCfz",
        "colab_type": "code",
        "colab": {}
      },
      "source": [
        "# !cp '/content/tb_logs' '/content/drive/My Drive/Colab Notebooks/project/'"
      ],
      "execution_count": 0,
      "outputs": []
    },
    {
      "cell_type": "code",
      "metadata": {
        "id": "7mqKdgra7avZ",
        "colab_type": "code",
        "colab": {}
      },
      "source": [
        "read_mode = 'test'\n",
        "\n",
        "if read_mode == 'train':\n",
        "    path_to_data, column_name = '/content/data/train/LabelTrainAll.mat', 'label_train'\n",
        "else:\n",
        "    path_to_data, column_name = '/content/data/test/LabelTestAll.mat', 'LabelTest'\n",
        "image_data = scipy.io.loadmat(path_to_data)[column_name][0]"
      ],
      "execution_count": 0,
      "outputs": []
    },
    {
      "cell_type": "code",
      "metadata": {
        "id": "VIeTFxvr0mko",
        "colab_type": "code",
        "outputId": "2ac68f83-3e7a-4521-de80-d6f173d168fc",
        "colab": {
          "base_uri": "https://localhost:8080/",
          "height": 305
        }
      },
      "source": [
        "pic_ind = 101\n",
        "pic_in_pic_ind = 0\n",
        "labels_dict = {0: 'Good Condition', 1: 'No Mask', 2: 'Bad Condition'}\n",
        "target_directory = '/content'\n",
        "if read_mode == 'train':\n",
        "    picname = image_data[pic_ind][1][pic_in_pic_ind]\n",
        "    labels = image_data[pic_ind][2][pic_in_pic_ind].astype(np.int64)\n",
        "else:\n",
        "    picname = image_data[pic_ind][0][pic_in_pic_ind]\n",
        "    labels = image_data[pic_ind][1][pic_in_pic_ind].astype(np.int64)\n",
        "image, true_label = cropMAFA(target_directory, picname, pic_in_pic_ind, labels, mode=read_mode)\n",
        "print('LABEL:', labels_dict[true_label])\n",
        "plt.imshow(image)"
      ],
      "execution_count": 0,
      "outputs": [
        {
          "output_type": "stream",
          "text": [
            "LABEL: Good Condition\n"
          ],
          "name": "stdout"
        },
        {
          "output_type": "execute_result",
          "data": {
            "text/plain": [
              "<matplotlib.image.AxesImage at 0x7f5010306b00>"
            ]
          },
          "metadata": {
            "tags": []
          },
          "execution_count": 239
        },
        {
          "output_type": "display_data",
          "data": {
            "image/png": "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\n",
            "text/plain": [
              "<Figure size 432x288 with 1 Axes>"
            ]
          },
          "metadata": {
            "tags": [],
            "needs_background": "light"
          }
        }
      ]
    },
    {
      "cell_type": "code",
      "metadata": {
        "id": "4T03QeFu_cEX",
        "colab_type": "code",
        "colab": {}
      },
      "source": [
        "def getImageNames(path_to_content='/content/images'):\n",
        "    image_names = []\n",
        "    for dirname, _, filenames in os.walk(path_to_content):\n",
        "        for filename in filenames:\n",
        "            fullpath = os.path.join(dirname, filename)\n",
        "            extension = fullpath[len(fullpath) - 5:]\n",
        "            if ('.jpg' in extension or '.jpeg' in extension):\n",
        "                image_names.append(filename)\n",
        "    return image_names\n",
        "\n",
        "\n",
        "def get_path(image_name):\n",
        "    home_path = '/content/'\n",
        "    image_path = home_path + 'images/' + image_name\n",
        "    if image_name[-4:] == 'jpeg':\n",
        "        label_name = image_name[:-5] + '.xml'\n",
        "    else:\n",
        "        label_name = image_name[:-4] + '.xml'\n",
        "    label_path = home_path + 'labels/' + label_name\n",
        "    return  image_path, label_path"
      ],
      "execution_count": 0,
      "outputs": []
    },
    {
      "cell_type": "code",
      "metadata": {
        "id": "kdSEqAfc_cA3",
        "colab_type": "code",
        "colab": {}
      },
      "source": [
        "def parse_xml(label_path):\n",
        "    x = xmltodict.parse(open(label_path , 'rb'))\n",
        "    item_list = x['annotation']['object']\n",
        "    \n",
        "    # when image has only one bounding box\n",
        "    if not isinstance(item_list, list):\n",
        "        item_list = [item_list]\n",
        "        \n",
        "    result = []\n",
        "    \n",
        "    for item in item_list:\n",
        "        name = item['name']\n",
        "        bndbox = [(int(item['bndbox']['xmin']), int(item['bndbox']['ymin'])),\n",
        "                  (int(item['bndbox']['xmax']), int(item['bndbox']['ymax']))]       \n",
        "        result.append((name, bndbox))\n",
        "    \n",
        "    size = [int(x['annotation']['size']['width']), \n",
        "            int(x['annotation']['size']['height'])]\n",
        "    \n",
        "    return result, size"
      ],
      "execution_count": 0,
      "outputs": []
    },
    {
      "cell_type": "code",
      "metadata": {
        "id": "weA0VvJd_b-q",
        "colab_type": "code",
        "outputId": "3b19e3e7-8168-4970-bbab-10ae2f2c0fea",
        "colab": {
          "base_uri": "https://localhost:8080/",
          "height": 35
        }
      },
      "source": [
        "image_names = getImageNames(path_to_content='/content/images')\n",
        "len(image_names)"
      ],
      "execution_count": 0,
      "outputs": [
        {
          "output_type": "execute_result",
          "data": {
            "text/plain": [
              "0"
            ]
          },
          "metadata": {
            "tags": []
          },
          "execution_count": 124
        }
      ]
    },
    {
      "cell_type": "code",
      "metadata": {
        "id": "ui1mJ1yYP0y8",
        "colab_type": "code",
        "colab": {}
      },
      "source": [
        "def visualize_image(image_name, bndbox=True):\n",
        "    image_path, label_path = get_path(image_name)\n",
        "    \n",
        "    image = cv2.imread(image_path)\n",
        "    image = cv2.cvtColor(image, cv2.COLOR_BGR2RGB)\n",
        "    \n",
        "    if bndbox:\n",
        "        labels, size = parse_xml(label_path)\n",
        "        thickness = int(sum(size)/400.)\n",
        "        \n",
        "        for label in labels:\n",
        "            name, bndbox = label\n",
        "            \n",
        "            if name == 'good':\n",
        "                cv2.rectangle(image, bndbox[0], bndbox[1], (0, 255, 0), thickness)\n",
        "            elif name == 'bad':\n",
        "                cv2.rectangle(image, bndbox[0], bndbox[1], (255, 0, 0), thickness)\n",
        "            else: # name == 'none'\n",
        "                cv2.rectangle(image, bndbox[0], bndbox[1], (0, 0, 255), thickness)\n",
        "    \n",
        "    plt.figure(figsize=(20, 20))\n",
        "    plt.subplot(1, 2, 1)\n",
        "    plt.axis('off')\n",
        "    plt.title(image_name)\n",
        "    plt.imshow(image)\n",
        "    plt.show()"
      ],
      "execution_count": 0,
      "outputs": []
    },
    {
      "cell_type": "code",
      "metadata": {
        "id": "w1aGntqY_b7Y",
        "colab_type": "code",
        "colab": {}
      },
      "source": [
        "# NUM_OF_IMGS_TO_VISUALIZE = 3\n",
        "\n",
        "# for i in range(NUM_OF_IMGS_TO_VISUALIZE):\n",
        "#     visualize_image(image_names[i])"
      ],
      "execution_count": 0,
      "outputs": []
    },
    {
      "cell_type": "code",
      "metadata": {
        "id": "PnxJTJdUGArv",
        "colab_type": "code",
        "colab": {}
      },
      "source": [
        "def cropImage(image_name):\n",
        "    image_path, label_path = get_path(image_name)\n",
        "    image = cv2.imread(image_path)\n",
        "    image = cv2.cvtColor(image, cv2.COLOR_BGR2RGB)\n",
        "    labels, size = parse_xml(label_path)\n",
        "    \n",
        "    cropedImgLabels = []\n",
        "\n",
        "    for label in labels:\n",
        "        name, bndbox = label\n",
        "        croped_image = image[bndbox[0][1]:bndbox[1][1], bndbox[0][0]:bndbox[1][0]]\n",
        "        label_num = 0\n",
        "        if name == \"good\":\n",
        "            label_num = 0\n",
        "        elif name == \"bad\":\n",
        "            label_num = 1\n",
        "        else: # no mask\n",
        "            label_num = 2\n",
        "        cropedImgLabel = [croped_image, label_num]\n",
        "        cropedImgLabels.append(cropedImgLabel)\n",
        "    return cropedImgLabels"
      ],
      "execution_count": 0,
      "outputs": []
    },
    {
      "cell_type": "code",
      "metadata": {
        "id": "Wu38K593GAlN",
        "colab_type": "code",
        "colab": {}
      },
      "source": [
        "label_0_counter = 0\n",
        "label_1_counter = 0\n",
        "label_2_counter = 0\n",
        "\n",
        "for image_name in image_names:\n",
        "    cropedImgLabels = cropImage(image_name)\n",
        "    \n",
        "    for cropedImgLabel in cropedImgLabels:\n",
        "        \n",
        "        label = cropedImgLabel[1]\n",
        "        img = cropedImgLabel[0]\n",
        "        \n",
        "        if label == 0:\n",
        "            croped_img_name = str(label_0_counter) + \".jpg\"\n",
        "            cv2.imwrite(label_0_dir + croped_img_name, img)\n",
        "            label_0_counter += 1\n",
        "        elif label == 1:\n",
        "            croped_img_name = str(label_1_counter) + \".jpg\"\n",
        "            cv2.imwrite(label_1_dir + croped_img_name, img)\n",
        "            label_1_counter += 1\n",
        "        else:\n",
        "            croped_img_name = str(label_2_counter) + \".jpg\"\n",
        "            cv2.imwrite(label_2_dir + croped_img_name, img)\n",
        "            label_2_counter += 1"
      ],
      "execution_count": 0,
      "outputs": []
    },
    {
      "cell_type": "code",
      "metadata": {
        "id": "YSzUsNRqdBu-",
        "colab_type": "code",
        "outputId": "57f71950-7a73-4b17-bd06-05ed386bc389",
        "colab": {
          "base_uri": "https://localhost:8080/",
          "height": 88
        }
      },
      "source": [
        "filenames_label_0 = [f for f in listdir(label_0_dir) if isfile(join(label_0_dir, f))]\n",
        "filenames_label_1 = [f for f in listdir(label_1_dir) if isfile(join(label_1_dir, f))]\n",
        "filenames_label_2 = [f for f in listdir(label_2_dir) if isfile(join(label_2_dir, f))]\n",
        "print(\"Total number of images: \" + str(len(filenames_label_0) + len(filenames_label_1) + len(filenames_label_2)))\n",
        "print(\"Number of images labeled 0: \" + str(len(filenames_label_0)))\n",
        "print(\"Number of images labeled 1: \" + str(len(filenames_label_1)))\n",
        "print(\"Number of images labeled 2: \" + str(len(filenames_label_2)))"
      ],
      "execution_count": 0,
      "outputs": [
        {
          "output_type": "stream",
          "text": [
            "Total number of images: 39485\n",
            "Number of images labeled 0: 31031\n",
            "Number of images labeled 1: 3198\n",
            "Number of images labeled 2: 5256\n"
          ],
          "name": "stdout"
        }
      ]
    },
    {
      "cell_type": "code",
      "metadata": {
        "id": "GurmTgprKAbO",
        "colab_type": "code",
        "outputId": "95567e07-9f48-4087-90d2-e8db2310b6d5",
        "colab": {
          "base_uri": "https://localhost:8080/",
          "height": 35
        }
      },
      "source": [
        "device = torch.device(\"cuda\" if torch.cuda.is_available() else \"cpu\")\n",
        "device"
      ],
      "execution_count": 28,
      "outputs": [
        {
          "output_type": "execute_result",
          "data": {
            "text/plain": [
              "device(type='cuda')"
            ]
          },
          "metadata": {
            "tags": []
          },
          "execution_count": 28
        }
      ]
    },
    {
      "cell_type": "code",
      "metadata": {
        "id": "YK8Wyrl57yAP",
        "colab_type": "code",
        "colab": {}
      },
      "source": [
        "class RetrofittedCNN(torch.nn.Module):\n",
        "    def __init__(self):\n",
        "        super().__init__()\n",
        "\n",
        "        pretrained_net = torchvision.models.squeezenet1_1(\n",
        "            pretrained=True,\n",
        "            num_classes=1000)\n",
        "        self.CNN = pretrained_net.features\n",
        "\n",
        "        self.classifier = torch.nn.Sequential(\n",
        "            torch.nn.Dropout(0.5),\n",
        "            torch.nn.Linear(512, 512),\n",
        "            torch.nn.BatchNorm1d(512),\n",
        "            torch.nn.ReLU(),\n",
        "            torch.nn.Dropout(0.5),\n",
        "            torch.nn.Linear(512, 3)\n",
        "        )\n",
        "\n",
        "    def forward(self, images):\n",
        "        \"\"\"\n",
        "        Define the forward pass.\n",
        "        \"\"\"\n",
        "        features = self.CNN(images).mean([2, 3])\n",
        "        class_scores = self.classifier(features)\n",
        "        return class_scores\n",
        "\n",
        "model = RetrofittedCNN().to(device)\n",
        "model.CNN.requires_grad_(False);"
      ],
      "execution_count": 0,
      "outputs": []
    },
    {
      "cell_type": "code",
      "metadata": {
        "id": "n-Vgrv4UKAwm",
        "colab_type": "code",
        "colab": {}
      },
      "source": [
        "model = models.resnet50(pretrained=False)"
      ],
      "execution_count": 0,
      "outputs": []
    },
    {
      "cell_type": "code",
      "metadata": {
        "id": "pDAxDwU6tEf5",
        "colab_type": "code",
        "outputId": "09f6b93b-9b9b-41ab-f944-29c66130e895",
        "colab": {
          "base_uri": "https://localhost:8080/",
          "height": 84,
          "referenced_widgets": [
            "111b750ed87a4272908fd627211a08f9",
            "b36a4da152ff4ab0b7c3e6dafebcc71b",
            "33fb5666e48e4935bb52da4fa275cc5c",
            "becc88f8a2954d689e94885ac84a1e57",
            "e9e245d445724ebbabce1f3c0349af5c",
            "795ce00430a74e7c972be1ef7585eaa5",
            "f6485f5a4c4649a1872ea43a5c32ec11",
            "1164f243625f42dea8abf5dff8a6e185"
          ]
        }
      },
      "source": [
        "model = models.mobilenet_v2(pretrained=True)"
      ],
      "execution_count": 0,
      "outputs": [
        {
          "output_type": "stream",
          "text": [
            "Downloading: \"https://download.pytorch.org/models/mobilenet_v2-b0353104.pth\" to /root/.cache/torch/checkpoints/mobilenet_v2-b0353104.pth\n"
          ],
          "name": "stderr"
        },
        {
          "output_type": "display_data",
          "data": {
            "application/vnd.jupyter.widget-view+json": {
              "model_id": "111b750ed87a4272908fd627211a08f9",
              "version_minor": 0,
              "version_major": 2
            },
            "text/plain": [
              "HBox(children=(FloatProgress(value=0.0, max=14212972.0), HTML(value='')))"
            ]
          },
          "metadata": {
            "tags": []
          }
        },
        {
          "output_type": "stream",
          "text": [
            "\n"
          ],
          "name": "stdout"
        }
      ]
    },
    {
      "cell_type": "code",
      "metadata": {
        "id": "pbN3gDkUI3QN",
        "colab_type": "code",
        "outputId": "60f9c093-6dca-4909-e5ff-5b2e515c632f",
        "colab": {
          "base_uri": "https://localhost:8080/",
          "height": 84,
          "referenced_widgets": [
            "785f11da468c442eaba47f551420a0ab",
            "8b1617574df244ff9e3ae73320d428e1",
            "7b14739a28b74f15bcb5578407c4b200",
            "d7ebfb1775ac46fe80d43217a3b4d364",
            "97a5eb19ee8a445e9eee7b25e318b8ec",
            "037f390b4c6c4bfdb1c94c204280733d",
            "507e08b3d82f466f90cdd1e5067bf5f9",
            "a63dedb070444056a3e42f03d7c18525"
          ]
        }
      },
      "source": [
        "model = models.vgg11_bn(pretrained=True)\n",
        "\n",
        "# num_ftrs = model.classifier[6].in_features\n",
        "# model.classifier[6] = torch.nn.Linear(num_ftrs, 3)"
      ],
      "execution_count": 0,
      "outputs": [
        {
          "output_type": "stream",
          "text": [
            "Downloading: \"https://download.pytorch.org/models/vgg11_bn-6002323d.pth\" to /root/.cache/torch/checkpoints/vgg11_bn-6002323d.pth\n"
          ],
          "name": "stderr"
        },
        {
          "output_type": "display_data",
          "data": {
            "application/vnd.jupyter.widget-view+json": {
              "model_id": "785f11da468c442eaba47f551420a0ab",
              "version_minor": 0,
              "version_major": 2
            },
            "text/plain": [
              "HBox(children=(FloatProgress(value=0.0, max=531503671.0), HTML(value='')))"
            ]
          },
          "metadata": {
            "tags": []
          }
        },
        {
          "output_type": "stream",
          "text": [
            "\n"
          ],
          "name": "stdout"
        }
      ]
    },
    {
      "cell_type": "code",
      "metadata": {
        "id": "5ulmg3gSPzIT",
        "colab_type": "code",
        "colab": {}
      },
      "source": [
        "model.to(device);"
      ],
      "execution_count": 0,
      "outputs": []
    },
    {
      "cell_type": "code",
      "metadata": {
        "id": "BFcrH_BCN1c8",
        "colab_type": "code",
        "colab": {}
      },
      "source": [
        "for layer, param in model.named_parameters():\n",
        "    if 'layer4' not in layer:\n",
        "        param.requires_grad = False"
      ],
      "execution_count": 0,
      "outputs": []
    },
    {
      "cell_type": "code",
      "metadata": {
        "id": "fhWcquoLtWU6",
        "colab_type": "code",
        "colab": {}
      },
      "source": [
        "for layer, param in model.named_parameters():\n",
        "    print(layer, param.requires_grad)\n",
        "    # if 'classifier' not in layer:\n",
        "        # param.requires_grad = False"
      ],
      "execution_count": 0,
      "outputs": []
    },
    {
      "cell_type": "code",
      "metadata": {
        "id": "6o-6QJGtKA7j",
        "colab_type": "code",
        "colab": {}
      },
      "source": [
        "model.fc = torch.nn.Sequential(torch.nn.Dropout(0.2),\n",
        "                               torch.nn.Linear(2048, 512),\n",
        "                               torch.nn.ReLU(),\n",
        "                               torch.nn.Dropout(0.2),\n",
        "                               torch.nn.Linear(512, 3))\n",
        "                              #  torch.nn.Sigmoid())\n",
        "                              #  torch.nn.LogSoftmax(dim=1))"
      ],
      "execution_count": 0,
      "outputs": []
    },
    {
      "cell_type": "code",
      "metadata": {
        "id": "22nE6sxJti-F",
        "colab_type": "code",
        "colab": {}
      },
      "source": [
        "# for resnet\n",
        "model.classifier = torch.nn.Sequential(\n",
        "                               torch.nn.Dropout(0.2),\n",
        "                               torch.nn.Linear(1280, 512),\n",
        "                               torch.nn.ReLU(),\n",
        "                               torch.nn.Dropout(0.2),\n",
        "                               torch.nn.Linear(512, 3)\n",
        "                               )\n",
        "                              #  torch.nn.Softmax(dim=1))\n",
        "                              #  torch.nn.Sigmoid())\n",
        "                              #  torch.nn.LogSoftmax(dim=1))"
      ],
      "execution_count": 0,
      "outputs": []
    },
    {
      "cell_type": "code",
      "metadata": {
        "id": "9gxp27Kz_78p",
        "colab_type": "code",
        "colab": {}
      },
      "source": [
        "# for resnet\n",
        "model.classifier = torch.nn.Sequential(\n",
        "    torch.nn.Linear(in_features=1280, out_features=800, bias=True),\n",
        "    torch.nn.ReLU(inplace=True),\n",
        "    torch.nn.Dropout(p=0.5, inplace=False),\n",
        "    torch.nn.Linear(in_features=800, out_features=400, bias=True),\n",
        "    torch.nn.ReLU(inplace=True),\n",
        "    torch.nn.Dropout(p=0.5, inplace=False),\n",
        "    torch.nn.Linear(in_features=400, out_features=3, bias=True),\n",
        "    torch.nn.Softmax(dim=1)\n",
        "  )"
      ],
      "execution_count": 0,
      "outputs": []
    },
    {
      "cell_type": "code",
      "metadata": {
        "id": "qF1deBxS1mlx",
        "colab_type": "code",
        "colab": {}
      },
      "source": [
        "# for vgg\n",
        "model.classifier = torch.nn.Sequential(\n",
        "    torch.nn.Linear(in_features=25088, out_features=4096, bias=True),\n",
        "    torch.nn.ReLU(inplace=True),\n",
        "    torch.nn.Dropout(p=0.5, inplace=False),\n",
        "    torch.nn.Linear(in_features=4096, out_features=4096, bias=True),\n",
        "    torch.nn.ReLU(inplace=True),\n",
        "    torch.nn.Dropout(p=0.5, inplace=False),\n",
        "    torch.nn.Linear(in_features=4096, out_features=3, bias=True)\n",
        "  )"
      ],
      "execution_count": 0,
      "outputs": []
    },
    {
      "cell_type": "code",
      "metadata": {
        "id": "QC65udMhYdcu",
        "colab_type": "code",
        "colab": {}
      },
      "source": [
        "# model.to(device);\n",
        "# model.features.requires_grad_(False);"
      ],
      "execution_count": 0,
      "outputs": []
    },
    {
      "cell_type": "code",
      "metadata": {
        "id": "3MuIzarUKJjJ",
        "colab_type": "code",
        "colab": {}
      },
      "source": [
        "# FOCAL LOSS\n",
        "# import numpy as np\n",
        "# import torch.nn.functional as F\n",
        "\n",
        "# def focal_loss(labels, logits, alpha, gamma):\n",
        "#     \"\"\"Compute the focal loss between `logits` and the ground truth `labels`.\n",
        "#     Focal loss = -alpha_t * (1-pt)^gamma * log(pt)\n",
        "#     where pt is the probability of being classified to the true class.\n",
        "#     pt = p (if true class), otherwise pt = 1 - p. p = sigmoid(logit).\n",
        "#     Args:\n",
        "#       labels: A float tensor of size [batch, num_classes].\n",
        "#       logits: A float tensor of size [batch, num_classes].\n",
        "#       alpha: A float tensor of size [batch_size]\n",
        "#         specifying per-example weight for balanced cross entropy.\n",
        "#       gamma: A float scalar modulating loss from hard and easy examples.\n",
        "#     Returns:\n",
        "#       focal_loss: A float32 scalar representing normalized total loss.\n",
        "#     \"\"\"    \n",
        "#     BCLoss = torch.nn.BCEWithLogitsLoss(reduction = \"none\")(logits, labels)\n",
        "\n",
        "#     if gamma == 0.0:\n",
        "#         modulator = 1.0\n",
        "#     else:\n",
        "#         modulator = torch.exp(-gamma * labels * logits - gamma * torch.log(1 + \n",
        "#             torch.exp(-1.0 * logits)))\n",
        "\n",
        "#     loss = modulator * BCLoss\n",
        "\n",
        "#     focal_loss = (alpha * loss).sum()\n",
        "#     focal_loss = focal_loss.div(labels.sum())\n",
        "#     return focal_loss\n",
        "\n",
        "# def CB_loss(labels, logits, samples_per_cls, no_of_classes, loss_type, beta, gamma):\n",
        "#     \"\"\"Compute the Class Balanced Loss between `logits` and the ground truth `labels`.\n",
        "#     Class Balanced Loss: ((1-beta)/(1-beta^n))*Loss(labels, logits)\n",
        "#     where Loss is one of the standard losses used for Neural Networks.\n",
        "#     Args:\n",
        "#       labels: A int tensor of size [batch].\n",
        "#       logits: A float tensor of size [batch, no_of_classes].\n",
        "#       samples_per_cls: A python list of size [no_of_classes].\n",
        "#       no_of_classes: total number of classes. int\n",
        "#       loss_type: string. One of \"sigmoid\", \"focal\", \"softmax\".\n",
        "#       beta: float. Hyperparameter for Class balanced loss.\n",
        "#       gamma: float. Hyperparameter for Focal loss.\n",
        "#     Returns:\n",
        "#       cb_loss: A float tensor representing class balanced loss\n",
        "#     \"\"\"\n",
        "#     effective_num = 1.0 - beta**samples_per_cls\n",
        "#     weights = (1.0 - beta).div(effective_num)\n",
        "#     weights = (weights.div(weights.sum() * no_of_classes)).type(torch.float)\n",
        "\n",
        "#     labels_one_hot = F.one_hot(labels, no_of_classes).type(torch.float)\n",
        "\n",
        "#     weights = weights.unsqueeze(0)\n",
        "#     weights = weights.repeat(labels_one_hot.shape[0], 1) * labels_one_hot\n",
        "#     weights = weights.sum(1)\n",
        "#     weights = weights.unsqueeze(1)\n",
        "#     weights = weights.repeat(1,no_of_classes)\n",
        "\n",
        "#     if loss_type == \"focal\":\n",
        "#         cb_loss = focal_loss(labels_one_hot, logits, weights, gamma)\n",
        "#     elif loss_type == \"sigmoid\":\n",
        "#         cb_loss = F.binary_cross_entropy_with_logits(input = logits,target = labels_one_hot, weights = weights)\n",
        "#     elif loss_type == \"softmax\":\n",
        "#         pred = logits.softmax(dim = 1)\n",
        "#         cb_loss = F.binary_cross_entropy(input = pred, target = labels_one_hot, weight = weights)\n",
        "#     return cb_loss"
      ],
      "execution_count": 0,
      "outputs": []
    },
    {
      "cell_type": "code",
      "metadata": {
        "id": "3beO7tUy1OuJ",
        "colab_type": "code",
        "colab": {}
      },
      "source": [
        "import cv2"
      ],
      "execution_count": 0,
      "outputs": []
    },
    {
      "cell_type": "code",
      "metadata": {
        "id": "tM7zYS6N1Mot",
        "colab_type": "code",
        "colab": {}
      },
      "source": [
        "def gaussian_blur(img):\n",
        "    image = np.array(img)\n",
        "    image_blur = cv2.GaussianBlur(image, (65, 65), 10)\n",
        "    new_image = image_blur\n",
        "    return new_image"
      ],
      "execution_count": 0,
      "outputs": []
    },
    {
      "cell_type": "code",
      "metadata": {
        "id": "Xd0Oqn7fZ9nf",
        "colab_type": "code",
        "colab": {}
      },
      "source": [
        "my_transform = {\n",
        "                'train': transforms.Compose([\n",
        "                         transforms.Resize((224, 224)),\n",
        "                        #  transforms.Lambda(gaussian_blur),\n",
        "                        #  transforms.ToPILImage(),\n",
        "                         transforms.RandomHorizontalFlip(),\n",
        "                         transforms.RandomRotation(40),\n",
        "                         transforms.ToTensor(),\n",
        "                         transforms.Normalize((0.485, 0.456, 0.406), (0.229, 0.224, 0.225)),\n",
        "                         ]),\n",
        "                'test': transforms.Compose([\n",
        "                        transforms.Resize((224, 224)),\n",
        "                        transforms.ToTensor(),\n",
        "                        transforms.Normalize((0.485, 0.456, 0.406), (0.229, 0.224, 0.225)),\n",
        "                        ])\n",
        "                }"
      ],
      "execution_count": 0,
      "outputs": []
    },
    {
      "cell_type": "code",
      "metadata": {
        "id": "lEldfL1inMJb",
        "colab_type": "code",
        "colab": {}
      },
      "source": [
        "# weights calculation for balanced sampling\n",
        "def make_weights_for_balanced_classes(images, nclasses):                        \n",
        "    count = [0] * nclasses                                                      \n",
        "    for item in images:                                                         \n",
        "        count[item[1]] += 1                                                     \n",
        "    weight_per_class = [0.] * nclasses                                      \n",
        "    N = float(sum(count))\n",
        "    print('N:', N)                                                \n",
        "    for i in range(nclasses):                                                   \n",
        "        weight_per_class[i] = N/float(count[i])                                 \n",
        "    weight = [0] * len(images)                                              \n",
        "    for idx, val in enumerate(images):                                          \n",
        "        weight[idx] = weight_per_class[val[1]]                                  \n",
        "    return weight"
      ],
      "execution_count": 0,
      "outputs": []
    },
    {
      "cell_type": "code",
      "metadata": {
        "id": "0g9EEWFNnMNE",
        "colab_type": "code",
        "outputId": "cefda5c8-26cf-4345-b570-d39df35f466a",
        "colab": {
          "base_uri": "https://localhost:8080/",
          "height": 52
        }
      },
      "source": [
        "path_to_dataset = '/content/test' # drive/My Drive/Colab Notebooks/project/MAFA_folders'\n",
        "# '/content/train' # '/content/drive/My Drive/Colab Notebooks/project/mask_set' # train/\n",
        "\n",
        "dataset = datasets.ImageFolder(path_to_dataset, transform = my_transform['train'])\n",
        "\n",
        "dataset_size = len(dataset)\n",
        "train_size = int(dataset_size * 0.8)\n",
        "val_size = int(dataset_size * 0.2) + 1\n",
        "\n",
        "train_dataset, val_dataset= torch.utils.data.random_split(dataset, [train_size, val_size])\n",
        "\n",
        "# For unbalanced dataset we create a weighted sampler\n",
        "weights = make_weights_for_balanced_classes(train_dataset, len(train_dataset.dataset.classes))\n",
        "weights = torch.DoubleTensor(weights)\n",
        "sampler = torch.utils.data.sampler.WeightedRandomSampler(weights, len(weights))\n",
        "\n",
        "train_loader = torch.utils.data.DataLoader(train_dataset, batch_size=24,\n",
        "                                            sampler = sampler, num_workers=4, pin_memory=True)\n",
        "\n",
        "weights = make_weights_for_balanced_classes(val_dataset, len(val_dataset.dataset.classes))\n",
        "weights = torch.DoubleTensor(weights)\n",
        "sampler = torch.utils.data.sampler.WeightedRandomSampler(weights, len(weights))\n",
        "\n",
        "val_loader = torch.utils.data.DataLoader(val_dataset, batch_size=24,\n",
        "                                          sampler = sampler, num_workers=4, pin_memory=True)"
      ],
      "execution_count": 29,
      "outputs": [
        {
          "output_type": "stream",
          "text": [
            "N: 8026.0\n",
            "N: 2007.0\n"
          ],
          "name": "stdout"
        }
      ]
    },
    {
      "cell_type": "code",
      "metadata": {
        "id": "ZScRcQ86yEyU",
        "colab_type": "code",
        "outputId": "bec312e5-df4a-4c7a-d777-a00f17a6ee6f",
        "colab": {
          "base_uri": "https://localhost:8080/",
          "height": 35
        }
      },
      "source": [
        "print(dataset_size, train_size + val_size)"
      ],
      "execution_count": 30,
      "outputs": [
        {
          "output_type": "stream",
          "text": [
            "10033 10033\n"
          ],
          "name": "stdout"
        }
      ]
    },
    {
      "cell_type": "code",
      "metadata": {
        "id": "zEoTT2tTKBjA",
        "colab_type": "code",
        "outputId": "c81257b5-4bc6-4979-8166-d3835547ad4d",
        "colab": {
          "base_uri": "https://localhost:8080/",
          "height": 70
        }
      },
      "source": [
        "# train_loader = torch.utils.data.DataLoader(train_dataset,\n",
        "#                                            batch_size=128,\n",
        "#                                            shuffle=True)\n",
        "\n",
        "# val_loader = torch.utils.data.DataLoader(val_dataset,\n",
        "#                                          batch_size=16,\n",
        "#                                          shuffle=False)\n",
        "\n",
        "vitya_dataset = '/content/drive/My Drive/Colab Notebooks/project/mask_set'\n",
        "vova_dataset = '/content/drive/My Drive/Colab Notebooks/project/Dataset_for_project'\n",
        "test_dataset = datasets.ImageFolder(vitya_dataset, transform = my_transform['test'])\n",
        "test_loader = torch.utils.data.DataLoader(test_dataset, batch_size=1, num_workers=4, pin_memory=True)\n",
        "\n",
        "print('Train set size: ', len(train_dataset))\n",
        "print('Validation set size: ', len(val_dataset))\n",
        "print('Test set size: ', len(test_dataset))"
      ],
      "execution_count": 14,
      "outputs": [
        {
          "output_type": "stream",
          "text": [
            "Train set size:  3133\n",
            "Validation set size:  784\n",
            "Test set size:  5623\n"
          ],
          "name": "stdout"
        }
      ]
    },
    {
      "cell_type": "code",
      "metadata": {
        "id": "mDNroV0BKjlb",
        "colab_type": "code",
        "colab": {}
      },
      "source": [
        "from torch import nn"
      ],
      "execution_count": 0,
      "outputs": []
    },
    {
      "cell_type": "code",
      "metadata": {
        "id": "MKpI1WcqKdme",
        "colab_type": "code",
        "colab": {}
      },
      "source": [
        "class Flatten(nn.Module):\n",
        "    def forward(self, input):\n",
        "        return input.view(input.size(0), -1)\n",
        "\n",
        "def make_model():\n",
        "    model = nn.Sequential(\n",
        "        nn.Conv2d(in_channels=3, out_channels=64, kernel_size=3, padding=1),\n",
        "        nn.BatchNorm2d(64),\n",
        "        nn.ReLU(),\n",
        "        nn.Conv2d(in_channels=64, out_channels=128, kernel_size=3, padding=1),\n",
        "        nn.BatchNorm2d(128),\n",
        "        nn.ReLU(),\n",
        "        nn.MaxPool2d(kernel_size=2),\n",
        "        nn.Conv2d(in_channels=128, out_channels=256, kernel_size=3, padding=1),\n",
        "        nn.BatchNorm2d(256),\n",
        "        nn.ReLU(),\n",
        "        nn.Conv2d(in_channels=256, out_channels=256, kernel_size=3, padding=1),\n",
        "        nn.BatchNorm2d(256),\n",
        "        nn.ReLU(),\n",
        "        nn.MaxPool2d(kernel_size=2),\n",
        "        nn.Conv2d(in_channels=256, out_channels=256, kernel_size=3, padding=1),\n",
        "        nn.BatchNorm2d(256),\n",
        "        nn.ReLU(),\n",
        "        nn.Conv2d(in_channels=256, out_channels=512, kernel_size=3, padding=1),\n",
        "        nn.BatchNorm2d(512),\n",
        "        nn.ReLU(),\n",
        "        nn.Conv2d(in_channels=512, out_channels=512, kernel_size=3, padding=1),\n",
        "        nn.BatchNorm2d(512),\n",
        "        nn.ReLU(),\n",
        "        nn.MaxPool2d(kernel_size=2),\n",
        "        nn.Conv2d(in_channels=512, out_channels=512, kernel_size=3, padding=1),\n",
        "        nn.BatchNorm2d(512),\n",
        "        nn.ReLU(),\n",
        "        nn.MaxPool2d(kernel_size=2),\n",
        "\n",
        "        \n",
        "        Flatten(),\n",
        "        nn.Dropout(),\n",
        "        nn.Linear(512 * 14 ** 2, 3),\n",
        "        nn.BatchNorm1d(3),\n",
        "        nn.ReLU(),\n",
        "        nn.Linear(3, 3)\n",
        "        # nn.Softmax(dim=1)\n",
        "    )\n",
        "    return model"
      ],
      "execution_count": 0,
      "outputs": []
    },
    {
      "cell_type": "code",
      "metadata": {
        "id": "ElOccau8WpOD",
        "colab_type": "code",
        "colab": {}
      },
      "source": [
        "class Criterion():\n",
        "    def __init__(self):\n",
        "        pass\n",
        "    def __call__(self, y_pred, y_true):\n",
        "        loss = - (y_true * torch.log(y_pred)).mean()\n",
        "        return loss"
      ],
      "execution_count": 0,
      "outputs": []
    },
    {
      "cell_type": "code",
      "metadata": {
        "id": "krpsvkgFKIhj",
        "colab_type": "code",
        "colab": {}
      },
      "source": [
        "model = make_model();"
      ],
      "execution_count": 0,
      "outputs": []
    },
    {
      "cell_type": "code",
      "metadata": {
        "id": "Vf9OZtTfYGXW",
        "colab_type": "code",
        "colab": {}
      },
      "source": [
        "model.to(device);"
      ],
      "execution_count": 0,
      "outputs": []
    },
    {
      "cell_type": "code",
      "metadata": {
        "id": "cpZn-BfyKA5M",
        "colab_type": "code",
        "colab": {}
      },
      "source": [
        "learning_rate = 1e-3 #1e-3\n",
        "\n",
        "criterion = torch.nn.CrossEntropyLoss() # weight=torch.Tensor([0.45, 0.1, 0.45]).to(device)) # torch.nn.NLLLoss()\n",
        "optimizer = torch.optim.SGD(model.parameters(), lr=learning_rate, momentum=0.95)\n",
        "\n",
        "# trainable_parameters = model.fc.parameters()\n",
        "\n",
        "# optimizer = torch.optim.Adam(model.parameters(), lr=learning_rate, weight_decay=1e-4)"
      ],
      "execution_count": 0,
      "outputs": []
    },
    {
      "cell_type": "code",
      "metadata": {
        "id": "1qMlLR1Vcqdq",
        "colab_type": "code",
        "colab": {}
      },
      "source": [
        "import os\n",
        "%reload_ext tensorboard"
      ],
      "execution_count": 0,
      "outputs": []
    },
    {
      "cell_type": "code",
      "metadata": {
        "id": "7Wr2uoZmQA1Z",
        "colab_type": "code",
        "colab": {}
      },
      "source": [
        "# !rm -rf ./tb_logs"
      ],
      "execution_count": 0,
      "outputs": []
    },
    {
      "cell_type": "code",
      "metadata": {
        "id": "v4gO5rZmcsDE",
        "colab_type": "code",
        "outputId": "3f0832f7-dbcf-4859-c298-790b4c5b0c55",
        "colab": {
          "resources": {
            "https://localhost:6006/": {
              "data": "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