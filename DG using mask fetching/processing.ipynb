{
  "nbformat": 4,
  "nbformat_minor": 0,
  "metadata": {
    "colab": {
      "name": "Untitled",
      "provenance": []
    },
    "kernelspec": {
      "name": "python3",
      "display_name": "Python 3"
    },
    "accelerator": "GPU"
  },
  "cells": [
    {
      "cell_type": "code",
      "metadata": {
        "id": "ZBHJMkVlEw_0",
        "colab_type": "code",
        "outputId": "577109a5-560e-4e4b-ec13-fc12eec94855",
        "colab": {
          "base_uri": "https://localhost:8080/",
          "height": 124
        }
      },
      "source": [
        "import glob\n",
        "from tqdm import tqdm\n",
        "from google.colab import drive\n",
        "import cv2\n",
        "import numpy as np\n",
        "from time import time\n",
        "from os import listdir\n",
        "from random import choice\n",
        "\n",
        "\n",
        "drive.mount('/content/drive/', force_remount=True)"
      ],
      "execution_count": 1,
      "outputs": [
        {
          "output_type": "stream",
          "text": [
            "Go to this URL in a browser: https://accounts.google.com/o/oauth2/auth?client_id=947318989803-6bn6qk8qdgf4n4g3pfee6491hc0brc4i.apps.googleusercontent.com&redirect_uri=urn%3aietf%3awg%3aoauth%3a2.0%3aoob&response_type=code&scope=email%20https%3a%2f%2fwww.googleapis.com%2fauth%2fdocs.test%20https%3a%2f%2fwww.googleapis.com%2fauth%2fdrive%20https%3a%2f%2fwww.googleapis.com%2fauth%2fdrive.photos.readonly%20https%3a%2f%2fwww.googleapis.com%2fauth%2fpeopleapi.readonly\n",
            "\n",
            "Enter your authorization code:\n",
            "··········\n",
            "Mounted at /content/drive/\n"
          ],
          "name": "stdout"
        }
      ]
    },
    {
      "cell_type": "code",
      "metadata": {
        "id": "TECqHX46JDw_",
        "colab_type": "code",
        "colab": {
          "base_uri": "https://localhost:8080/",
          "height": 419
        },
        "outputId": "8b680cce-4755-455c-97cd-d0e1d14c656c"
      },
      "source": [
        "!pip install face-alignment"
      ],
      "execution_count": 2,
      "outputs": [
        {
          "output_type": "stream",
          "text": [
            "Collecting face-alignment\n",
            "  Downloading https://files.pythonhosted.org/packages/20/86/26baa3888c254c9ce284702a1041cf9a533ad91c873b06f74d3cfa23aff7/face_alignment-1.0.0-py2.py3-none-any.whl\n",
            "Requirement already satisfied: scipy>=0.17 in /usr/local/lib/python3.6/dist-packages (from face-alignment) (1.4.1)\n",
            "Requirement already satisfied: scikit-image in /usr/local/lib/python3.6/dist-packages (from face-alignment) (0.16.2)\n",
            "Requirement already satisfied: torch in /usr/local/lib/python3.6/dist-packages (from face-alignment) (1.5.0+cu101)\n",
            "Requirement already satisfied: opencv-python in /usr/local/lib/python3.6/dist-packages (from face-alignment) (4.1.2.30)\n",
            "Requirement already satisfied: tqdm in /usr/local/lib/python3.6/dist-packages (from face-alignment) (4.41.1)\n",
            "Requirement already satisfied: numpy in /usr/local/lib/python3.6/dist-packages (from face-alignment) (1.18.4)\n",
            "Requirement already satisfied: pillow>=4.3.0 in /usr/local/lib/python3.6/dist-packages (from scikit-image->face-alignment) (7.0.0)\n",
            "Requirement already satisfied: imageio>=2.3.0 in /usr/local/lib/python3.6/dist-packages (from scikit-image->face-alignment) (2.4.1)\n",
            "Requirement already satisfied: PyWavelets>=0.4.0 in /usr/local/lib/python3.6/dist-packages (from scikit-image->face-alignment) (1.1.1)\n",
            "Requirement already satisfied: matplotlib!=3.0.0,>=2.0.0 in /usr/local/lib/python3.6/dist-packages (from scikit-image->face-alignment) (3.2.1)\n",
            "Requirement already satisfied: networkx>=2.0 in /usr/local/lib/python3.6/dist-packages (from scikit-image->face-alignment) (2.4)\n",
            "Requirement already satisfied: future in /usr/local/lib/python3.6/dist-packages (from torch->face-alignment) (0.16.0)\n",
            "Requirement already satisfied: pyparsing!=2.0.4,!=2.1.2,!=2.1.6,>=2.0.1 in /usr/local/lib/python3.6/dist-packages (from matplotlib!=3.0.0,>=2.0.0->scikit-image->face-alignment) (2.4.7)\n",
            "Requirement already satisfied: kiwisolver>=1.0.1 in /usr/local/lib/python3.6/dist-packages (from matplotlib!=3.0.0,>=2.0.0->scikit-image->face-alignment) (1.2.0)\n",
            "Requirement already satisfied: python-dateutil>=2.1 in /usr/local/lib/python3.6/dist-packages (from matplotlib!=3.0.0,>=2.0.0->scikit-image->face-alignment) (2.8.1)\n",
            "Requirement already satisfied: cycler>=0.10 in /usr/local/lib/python3.6/dist-packages (from matplotlib!=3.0.0,>=2.0.0->scikit-image->face-alignment) (0.10.0)\n",
            "Requirement already satisfied: decorator>=4.3.0 in /usr/local/lib/python3.6/dist-packages (from networkx>=2.0->scikit-image->face-alignment) (4.4.2)\n",
            "Requirement already satisfied: six>=1.5 in /usr/local/lib/python3.6/dist-packages (from python-dateutil>=2.1->matplotlib!=3.0.0,>=2.0.0->scikit-image->face-alignment) (1.12.0)\n",
            "Installing collected packages: face-alignment\n",
            "Successfully installed face-alignment-1.0.0\n"
          ],
          "name": "stdout"
        }
      ]
    },
    {
      "cell_type": "code",
      "metadata": {
        "id": "nkKsJu08Ize1",
        "colab_type": "code",
        "colab": {}
      },
      "source": [
        "import face_alignment\n",
        "\n",
        "\n",
        "def rotate(image, angle, center = None, scale = 1.0):\n",
        "    (h, w) = image.shape[:2]\n",
        "\n",
        "    if center is None:\n",
        "        center = (w / 2, h / 2)\n",
        "\n",
        "    # Perform the rotation\n",
        "    M = cv2.getRotationMatrix2D(center, angle, scale)\n",
        "    rotated = cv2.warpAffine(image, M, (w, h))\n",
        "    return rotated\n",
        "\n",
        "\n",
        "def add_mask(frame):\n",
        "\n",
        "    global masks_raw, color, label, fa\n",
        "\n",
        "    tho = thos[color]\n",
        "    if frame is None:\n",
        "        raise RuntimeError(\"No source\")\n",
        "    \n",
        "    height, width, layers = frame.shape\n",
        "    res_coef = 1\n",
        "    new_h = int(height / res_coef)\n",
        "    new_w = int(width / res_coef)\n",
        "\n",
        "    frame = cv2.resize(frame, (new_w, new_h))\n",
        "\n",
        "    gray = cv2.cvtColor(frame, cv2.COLOR_BGR2GRAY)\n",
        "\n",
        "    mult = .35\n",
        "    h_border = int(new_h * mult)\n",
        "    w_border = int(new_w * mult)\n",
        "\n",
        "    frame = cv2.copyMakeBorder(frame, h_border, h_border, w_border, w_border, cv2.BORDER_CONSTANT)\n",
        "\n",
        "    faces = fa.get_landmarks(frame)\n",
        "    if faces is not None:\n",
        "        for face in faces:\n",
        "            try:\n",
        "                # for landmark in face:  # [face[1], face[15], face[8]]:\n",
        "                #     if list(landmark) in [list(face[1]), list(face[15]), list(face[8]), list(face[30])]:\n",
        "                #         cv2.circle(frame, (landmark[0], landmark[1]), 2, (255, 255, 0), -1)\n",
        "                #     else:\n",
        "                #         cv2.circle(frame, (landmark[0], landmark[1]), 2, (255, 0, 0), -1)\n",
        "\n",
        "                x1, x2, x3, y1, y2, y3, z1, z2 = int(face[1][0]), int(face[15][0]), int(face[8][0]), int(face[1][1]), \\\n",
        "                                                 int(face[15][1]), int(face[8][1]), int(face[1][2]), int(face[15][2])\n",
        "\n",
        "                try:\n",
        "                    # detecting angles\n",
        "                    yaw = -np.arctan((z1 - z2) / abs(x1 - x2)) / np.pi * 180\n",
        "                    roll = -np.arctan((y2 - y1) / (x2 - x1)) / np.pi * 180\n",
        "                    pitch = -np.arctan((face[28][1] - face[1][1]) / (face[28][2] - face[1][2])) / np.pi * 180\n",
        "                except ZeroDivisionError:\n",
        "                    continue\n",
        "\n",
        "                # rotate frame in opposite to face rotation\n",
        "                rot_frame = rotate(frame, -roll)\n",
        "\n",
        "                #----------------------------------\n",
        "                double = fa.get_landmarks(rot_frame)\n",
        "                face = double[faces.index(face)]\n",
        "                #----------------------------------\n",
        "                # print(len(faces), end='\\r')\n",
        "\n",
        "                # roll_rad = roll * np.pi / 180\n",
        "                # p = rot_frame.shape[1] / 2\n",
        "                # q = rot_frame.shape[0] / 2\n",
        "                # x1 = (x1-p)*np.cos(roll_rad) - (y1)\n",
        "\n",
        "                x1, x2, x3, y1, y2, y3, z1, z2 = int(face[1][0]), int(face[15][0]), int(face[8][0]), int(face[1][1]), \\\n",
        "                                                 int(face[15][1]), int(face[8][1]), int(face[1][2]), int(face[15][2])\n",
        "\n",
        "                # choosing appropriate mask image\n",
        "                angle_deltas = [abs(abs(yaw) - op) for op in masks_raw.keys()]\n",
        "                min_angle_index = angle_deltas.index(min(angle_deltas))\n",
        "\n",
        "                face_width = int(np.sqrt((x1 - x2) ** 2 + (y1 - y2) ** 2 + (z1 - z2) ** 2))\n",
        "                # face_width -= int(face_width*abs(pitch)*.001) # adjusting mask width with respect to pitch angle\n",
        "\n",
        "                y1 = int(face[28][1])\n",
        "                if label == 2:\n",
        "                    y1 += int(abs(y1 - y3) * .35)\n",
        "\n",
        "                # flipping if necessary\n",
        "\n",
        "                if yaw >= 0:\n",
        "                    mask_raw = masks_raw[list(masks_raw.keys())[min_angle_index]]\n",
        "                    roi = rot_frame[y1:y3, x2 - face_width:x2]\n",
        "                else:\n",
        "                    mask_raw = cv2.flip(masks_raw[list(masks_raw.keys())[min_angle_index]], 1)\n",
        "                    roi = rot_frame[y1:y3, x1:x1 + face_width]\n",
        "\n",
        "                size_mask = (face_width, abs(y1 - y3))\n",
        "\n",
        "                mask_resized = cv2.resize(mask_raw, size_mask)\n",
        "                gray_mask = cv2.cvtColor(mask_resized, cv2.COLOR_BGR2GRAY)\n",
        "                _, mask = cv2.threshold(gray_mask, tho, 255, cv2.THRESH_BINARY_INV)\n",
        "                mask_inv = cv2.bitwise_not(mask)\n",
        "\n",
        "                try:\n",
        "                    masked_face = cv2.bitwise_and(mask_resized, mask_resized, mask=mask)\n",
        "                    masked_frame = cv2.bitwise_and(roi, roi, mask=mask_inv)\n",
        "\n",
        "                    # rot_frame = rotate(rot_frame, roll)\n",
        "                    if yaw >= 0:\n",
        "                        rot_frame[y1:y3, x2 - face_width:x2] = cv2.add(masked_face, masked_frame)\n",
        "                    else:\n",
        "                        rot_frame[y1:y3, x1:x1 + face_width] = cv2.add(masked_face, masked_frame)\n",
        "                    # rot_frame = rotate(rot_frame, -roll)\n",
        "                except cv2.error as e:\n",
        "                    continue\n",
        "\n",
        "                frame = rotate(rot_frame, roll)\n",
        "            except ValueError as e:\n",
        "                # print(e)\n",
        "                continue\n",
        "\n",
        "    try:\n",
        "        roll == 1\n",
        "    except UnboundLocalError:\n",
        "        roll = 0\n",
        "\n",
        "    # cv2.putText(frame, str(tho), (x1, y1), cv2.FONT_HERSHEY_SIMPLEX, 1, (255, 0, 0), 1)\n",
        "    # frame = rotate(frame, roll)\n",
        "\n",
        "    frame_size = frame.shape\n",
        "    frame = frame[h_border:frame_size[0] - h_border, w_border:frame_size[1] - w_border]\n",
        "\n",
        "    return frame"
      ],
      "execution_count": 0,
      "outputs": []
    },
    {
      "cell_type": "code",
      "metadata": {
        "id": "ImO9xTLjeUew",
        "colab_type": "code",
        "colab": {
          "base_uri": "https://localhost:8080/",
          "height": 35
        },
        "outputId": "920123a6-33e2-4216-be59-ff4fdd0c8fbd"
      },
      "source": [
        "root = '/content/drive/My Drive/new_set/'\n",
        "listdir(root)"
      ],
      "execution_count": 10,
      "outputs": [
        {
          "output_type": "execute_result",
          "data": {
            "text/plain": [
              "['lfw', 'new', 'masks', 'Untitled']"
            ]
          },
          "metadata": {
            "tags": []
          },
          "execution_count": 10
        }
      ]
    },
    {
      "cell_type": "code",
      "metadata": {
        "id": "o2YYLbHlenae",
        "colab_type": "code",
        "colab": {
          "base_uri": "https://localhost:8080/",
          "height": 35
        },
        "outputId": "93c6c781-32b0-45ed-88c3-e6188804c54a"
      },
      "source": [
        "print('Reading pics')\n",
        "faces = glob.glob('/content/drive/My Drive/new_set/lfw/*/*.jpg')\n",
        "import numpy as np\n",
        "from skimage import io"
      ],
      "execution_count": 11,
      "outputs": [
        {
          "output_type": "stream",
          "text": [
            "Reading pics\n"
          ],
          "name": "stdout"
        }
      ]
    },
    {
      "cell_type": "code",
      "metadata": {
        "id": "1zZTcuzoD9hM",
        "colab_type": "code",
        "outputId": "025c51a7-9f72-436c-c60f-c2133077a7d6",
        "colab": {
          "base_uri": "https://localhost:8080/",
          "height": 953
        }
      },
      "source": [
        "filenames = [file for file in  listdir(f'{root}masks/blue') if file[-3:] == 'png']\n",
        "colors = ['blue', 'black', 'green']\n",
        "print('Reading masks')\n",
        "masks_raw_all = {c:\n",
        "                 {int(fname[:-4]): cv2.imread(f'{root}masks/{c}/{fname}', 1) for fname in filenames}\n",
        "             for c in colors}\n",
        "thos = {'blue': 220, 'black': 100, 'green': 145} # mask thesholds\n",
        "\n",
        "proc = []\n",
        "fa = face_alignment.FaceAlignment(face_alignment.LandmarksType._3D, flip_input=True, device='cuda')\n",
        "\n",
        "for filepath in tqdm(faces):\n",
        "    fname = filepath.split('/')[-1][:-4]\n",
        "    roll = np.random.randint(0,3)\n",
        "    color = choice(colors)\n",
        "    masks_raw = masks_raw_all[color]\n",
        "    output = cv2.imread(filepath)\n",
        "    # no mask\n",
        "    if roll != 1:\n",
        "        label = roll\n",
        "        output = add_mask(output)\n",
        "\n",
        "    cv2.imwrite(root + 'new/{}/{}.png'.format(roll, fname), output)"
      ],
      "execution_count": 18,
      "outputs": [
        {
          "output_type": "stream",
          "text": [
            "Reading masks\n",
            "Downloading the face detection CNN. Please wait...\n",
            "Downloading the Face Alignment Network(FAN). Please wait...\n",
            "Downloading the Face Alignment depth Network (FAN-D). Please wait...\n"
          ],
          "name": "stdout"
        },
        {
          "output_type": "stream",
          "text": [
            "  0%|          | 45/13233 [00:26<3:15:37,  1.12it/s]"
          ],
          "name": "stderr"
        },
        {
          "output_type": "stream",
          "text": [
            "Warning: No faces were detected.\n"
          ],
          "name": "stdout"
        },
        {
          "output_type": "stream",
          "text": [
            "  0%|          | 49/13233 [00:34<5:27:02,  1.49s/it]"
          ],
          "name": "stderr"
        },
        {
          "output_type": "stream",
          "text": [
            "Warning: No faces were detected.\n"
          ],
          "name": "stdout"
        },
        {
          "output_type": "stream",
          "text": [
            "  3%|▎         | 382/13233 [03:25<2:06:06,  1.70it/s]"
          ],
          "name": "stderr"
        },
        {
          "output_type": "stream",
          "text": [
            "Warning: No faces were detected.\n"
          ],
          "name": "stdout"
        },
        {
          "output_type": "stream",
          "text": [
            "  4%|▎         | 474/13233 [04:14<2:25:28,  1.46it/s]"
          ],
          "name": "stderr"
        },
        {
          "output_type": "stream",
          "text": [
            "Warning: No faces were detected.\n"
          ],
          "name": "stdout"
        },
        {
          "output_type": "stream",
          "text": [
            "  5%|▍         | 606/13233 [05:39<2:25:42,  1.44it/s]"
          ],
          "name": "stderr"
        },
        {
          "output_type": "stream",
          "text": [
            "Warning: No faces were detected.\n"
          ],
          "name": "stdout"
        },
        {
          "output_type": "stream",
          "text": [
            "  6%|▌         | 797/13233 [07:20<2:38:18,  1.31it/s]"
          ],
          "name": "stderr"
        },
        {
          "output_type": "stream",
          "text": [
            "Warning: No faces were detected.\n"
          ],
          "name": "stdout"
        },
        {
          "output_type": "stream",
          "text": [
            "  8%|▊         | 1113/13233 [10:12<1:38:19,  2.05it/s]"
          ],
          "name": "stderr"
        },
        {
          "output_type": "stream",
          "text": [
            "Warning: No faces were detected.\n"
          ],
          "name": "stdout"
        },
        {
          "output_type": "stream",
          "text": [
            " 11%|█         | 1427/13233 [12:46<2:13:30,  1.47it/s]"
          ],
          "name": "stderr"
        },
        {
          "output_type": "stream",
          "text": [
            "Warning: No faces were detected.\n"
          ],
          "name": "stdout"
        },
        {
          "output_type": "stream",
          "text": [
            " 12%|█▏        | 1638/13233 [14:23<1:35:27,  2.02it/s]"
          ],
          "name": "stderr"
        },
        {
          "output_type": "stream",
          "text": [
            "Warning: No faces were detected.\n"
          ],
          "name": "stdout"
        },
        {
          "output_type": "stream",
          "text": [
            " 15%|█▍        | 1961/13233 [17:07<1:35:31,  1.97it/s]"
          ],
          "name": "stderr"
        },
        {
          "output_type": "stream",
          "text": [
            "Warning: No faces were detected.\n"
          ],
          "name": "stdout"
        },
        {
          "output_type": "stream",
          "text": [
            " 16%|█▌        | 2081/13233 [18:08<2:47:38,  1.11it/s]"
          ],
          "name": "stderr"
        },
        {
          "output_type": "stream",
          "text": [
            "Warning: No faces were detected.\n"
          ],
          "name": "stdout"
        },
        {
          "output_type": "stream",
          "text": [
            " 18%|█▊        | 2425/13233 [20:52<1:42:13,  1.76it/s]"
          ],
          "name": "stderr"
        },
        {
          "output_type": "stream",
          "text": [
            "Warning: No faces were detected.\n"
          ],
          "name": "stdout"
        },
        {
          "output_type": "stream",
          "text": [
            " 20%|██        | 2659/13233 [22:54<2:03:01,  1.43it/s]"
          ],
          "name": "stderr"
        },
        {
          "output_type": "stream",
          "text": [
            "Warning: No faces were detected.\n"
          ],
          "name": "stdout"
        },
        {
          "output_type": "stream",
          "text": [
            " 23%|██▎       | 3062/13233 [26:11<1:38:50,  1.72it/s]"
          ],
          "name": "stderr"
        },
        {
          "output_type": "stream",
          "text": [
            "Warning: No faces were detected.\n"
          ],
          "name": "stdout"
        },
        {
          "output_type": "stream",
          "text": [
            " 26%|██▋       | 3478/13233 [29:30<1:27:41,  1.85it/s]"
          ],
          "name": "stderr"
        },
        {
          "output_type": "stream",
          "text": [
            "Warning: No faces were detected.\n"
          ],
          "name": "stdout"
        },
        {
          "output_type": "stream",
          "text": [
            " 37%|███▋      | 4911/13233 [42:04<1:18:11,  1.77it/s]"
          ],
          "name": "stderr"
        },
        {
          "output_type": "stream",
          "text": [
            "Warning: No faces were detected.\n"
          ],
          "name": "stdout"
        },
        {
          "output_type": "stream",
          "text": [
            " 37%|███▋      | 4939/13233 [42:17<1:17:16,  1.79it/s]"
          ],
          "name": "stderr"
        },
        {
          "output_type": "stream",
          "text": [
            "Warning: No faces were detected.\n"
          ],
          "name": "stdout"
        },
        {
          "output_type": "stream",
          "text": [
            " 39%|███▊      | 5104/13233 [43:40<1:24:46,  1.60it/s]"
          ],
          "name": "stderr"
        },
        {
          "output_type": "stream",
          "text": [
            "Warning: No faces were detected.\n"
          ],
          "name": "stdout"
        },
        {
          "output_type": "stream",
          "text": [
            " 40%|███▉      | 5237/13233 [44:53<1:32:34,  1.44it/s]"
          ],
          "name": "stderr"
        },
        {
          "output_type": "stream",
          "text": [
            "Warning: No faces were detected.\n"
          ],
          "name": "stdout"
        },
        {
          "output_type": "stream",
          "text": [
            " 42%|████▏     | 5581/13233 [48:00<1:14:10,  1.72it/s]"
          ],
          "name": "stderr"
        },
        {
          "output_type": "stream",
          "text": [
            "Warning: No faces were detected.\n"
          ],
          "name": "stdout"
        },
        {
          "output_type": "stream",
          "text": [
            " 44%|████▍     | 5879/13233 [50:30<48:24,  2.53it/s]"
          ],
          "name": "stderr"
        },
        {
          "output_type": "stream",
          "text": [
            "Warning: No faces were detected.\n"
          ],
          "name": "stdout"
        },
        {
          "output_type": "stream",
          "text": [
            " 45%|████▍     | 5934/13233 [51:01<1:19:02,  1.54it/s]"
          ],
          "name": "stderr"
        },
        {
          "output_type": "stream",
          "text": [
            "Warning: No faces were detected.\n"
          ],
          "name": "stdout"
        },
        {
          "output_type": "stream",
          "text": [
            " 48%|████▊     | 6382/13233 [54:51<1:19:21,  1.44it/s]"
          ],
          "name": "stderr"
        },
        {
          "output_type": "stream",
          "text": [
            "Warning: No faces were detected.\n"
          ],
          "name": "stdout"
        },
        {
          "output_type": "stream",
          "text": [
            " 52%|█████▏    | 6908/13233 [59:23<1:40:23,  1.05it/s]"
          ],
          "name": "stderr"
        },
        {
          "output_type": "stream",
          "text": [
            "Warning: No faces were detected.\n"
          ],
          "name": "stdout"
        },
        {
          "output_type": "stream",
          "text": [
            " 52%|█████▏    | 6931/13233 [59:51<51:35,  2.04it/s]"
          ],
          "name": "stderr"
        },
        {
          "output_type": "stream",
          "text": [
            "Warning: No faces were detected.\n"
          ],
          "name": "stdout"
        },
        {
          "output_type": "stream",
          "text": [
            " 56%|█████▋    | 7461/13233 [1:04:23<55:02,  1.75it/s]"
          ],
          "name": "stderr"
        },
        {
          "output_type": "stream",
          "text": [
            "Warning: No faces were detected.\n"
          ],
          "name": "stdout"
        },
        {
          "output_type": "stream",
          "text": [
            " 60%|█████▉    | 7882/13233 [1:08:08<51:35,  1.73it/s]"
          ],
          "name": "stderr"
        },
        {
          "output_type": "stream",
          "text": [
            "Warning: No faces were detected.\n"
          ],
          "name": "stdout"
        },
        {
          "output_type": "stream",
          "text": [
            " 62%|██████▏   | 8231/13233 [1:10:56<38:08,  2.19it/s]"
          ],
          "name": "stderr"
        },
        {
          "output_type": "stream",
          "text": [
            "Warning: No faces were detected.\n"
          ],
          "name": "stdout"
        },
        {
          "output_type": "stream",
          "text": [
            " 63%|██████▎   | 8382/13233 [1:12:18<52:47,  1.53it/s]"
          ],
          "name": "stderr"
        },
        {
          "output_type": "stream",
          "text": [
            "Warning: No faces were detected.\n"
          ],
          "name": "stdout"
        },
        {
          "output_type": "stream",
          "text": [
            " 70%|██████▉   | 9262/13233 [1:19:36<35:40,  1.86it/s]"
          ],
          "name": "stderr"
        },
        {
          "output_type": "stream",
          "text": [
            "Warning: No faces were detected.\n"
          ],
          "name": "stdout"
        },
        {
          "output_type": "stream",
          "text": [
            " 74%|███████▎  | 9736/13233 [1:23:27<41:49,  1.39it/s]"
          ],
          "name": "stderr"
        },
        {
          "output_type": "stream",
          "text": [
            "Warning: No faces were detected.\n"
          ],
          "name": "stdout"
        },
        {
          "output_type": "stream",
          "text": [
            " 75%|███████▍  | 9895/13233 [1:24:41<31:01,  1.79it/s]"
          ],
          "name": "stderr"
        },
        {
          "output_type": "stream",
          "text": [
            "Warning: No faces were detected.\n"
          ],
          "name": "stdout"
        },
        {
          "output_type": "stream",
          "text": [
            " 76%|███████▋  | 10116/13233 [1:26:36<33:22,  1.56it/s]"
          ],
          "name": "stderr"
        },
        {
          "output_type": "stream",
          "text": [
            "Warning: No faces were detected.\n"
          ],
          "name": "stdout"
        },
        {
          "output_type": "stream",
          "text": [
            " 79%|███████▉  | 10463/13233 [1:29:32<34:19,  1.34it/s]"
          ],
          "name": "stderr"
        },
        {
          "output_type": "stream",
          "text": [
            "Warning: No faces were detected.\n"
          ],
          "name": "stdout"
        },
        {
          "output_type": "stream",
          "text": [
            " 87%|████████▋ | 11457/13233 [1:38:09<13:43,  2.16it/s]"
          ],
          "name": "stderr"
        },
        {
          "output_type": "stream",
          "text": [
            "Warning: No faces were detected.\n"
          ],
          "name": "stdout"
        },
        {
          "output_type": "stream",
          "text": [
            " 88%|████████▊ | 11605/13233 [1:39:22<18:07,  1.50it/s]"
          ],
          "name": "stderr"
        },
        {
          "output_type": "stream",
          "text": [
            "Warning: No faces were detected.\n"
          ],
          "name": "stdout"
        },
        {
          "output_type": "stream",
          "text": [
            " 88%|████████▊ | 11708/13233 [1:40:16<21:29,  1.18it/s]"
          ],
          "name": "stderr"
        },
        {
          "output_type": "stream",
          "text": [
            "Warning: No faces were detected.\n",
            "Warning: No faces were detected.\n"
          ],
          "name": "stdout"
        },
        {
          "output_type": "stream",
          "text": [
            " 91%|█████████ | 12000/13233 [1:43:00<15:54,  1.29it/s]"
          ],
          "name": "stderr"
        },
        {
          "output_type": "stream",
          "text": [
            "Warning: No faces were detected.\n",
            "Warning: No faces were detected.\n",
            "Warning: No faces were detected.\n"
          ],
          "name": "stdout"
        },
        {
          "output_type": "stream",
          "text": [
            " 91%|█████████ | 12014/13233 [1:43:07<11:21,  1.79it/s]"
          ],
          "name": "stderr"
        },
        {
          "output_type": "stream",
          "text": [
            "Warning: No faces were detected.\n"
          ],
          "name": "stdout"
        },
        {
          "output_type": "stream",
          "text": [
            " 91%|█████████▏| 12101/13233 [1:43:49<09:05,  2.08it/s]"
          ],
          "name": "stderr"
        },
        {
          "output_type": "stream",
          "text": [
            "Warning: No faces were detected.\n"
          ],
          "name": "stdout"
        },
        {
          "output_type": "stream",
          "text": [
            " 92%|█████████▏| 12180/13233 [1:44:33<13:37,  1.29it/s]"
          ],
          "name": "stderr"
        },
        {
          "output_type": "stream",
          "text": [
            "Warning: No faces were detected.\n"
          ],
          "name": "stdout"
        },
        {
          "output_type": "stream",
          "text": [
            " 93%|█████████▎| 12345/13233 [1:46:02<09:00,  1.64it/s]"
          ],
          "name": "stderr"
        },
        {
          "output_type": "stream",
          "text": [
            "Warning: No faces were detected.\n"
          ],
          "name": "stdout"
        },
        {
          "output_type": "stream",
          "text": [
            " 95%|█████████▍| 12535/13233 [1:47:39<06:34,  1.77it/s]"
          ],
          "name": "stderr"
        },
        {
          "output_type": "stream",
          "text": [
            "Warning: No faces were detected.\n"
          ],
          "name": "stdout"
        },
        {
          "output_type": "stream",
          "text": [
            " 97%|█████████▋| 12878/13233 [1:50:37<02:38,  2.24it/s]"
          ],
          "name": "stderr"
        },
        {
          "output_type": "stream",
          "text": [
            "Warning: No faces were detected.\n"
          ],
          "name": "stdout"
        },
        {
          "output_type": "stream",
          "text": [
            " 97%|█████████▋| 12901/13233 [1:50:51<04:54,  1.13it/s]"
          ],
          "name": "stderr"
        },
        {
          "output_type": "stream",
          "text": [
            "Warning: No faces were detected.\n"
          ],
          "name": "stdout"
        },
        {
          "output_type": "stream",
          "text": [
            "100%|█████████▉| 13184/13233 [1:53:18<00:33,  1.45it/s]"
          ],
          "name": "stderr"
        },
        {
          "output_type": "stream",
          "text": [
            "Warning: No faces were detected.\n"
          ],
          "name": "stdout"
        },
        {
          "output_type": "stream",
          "text": [
            "100%|██████████| 13233/13233 [1:53:42<00:00,  1.94it/s]\n"
          ],
          "name": "stderr"
        }
      ]
    },
    {
      "cell_type": "markdown",
      "metadata": {
        "id": "xASXXgK0Jsbc",
        "colab_type": "text"
      },
      "source": [
        "## In case of using this with web camera or video source"
      ]
    },
    {
      "cell_type": "code",
      "metadata": {
        "id": "hJFV2Kz7HIsu",
        "colab_type": "code",
        "colab": {}
      },
      "source": [
        "# -------------\n",
        "source_types = ['cam', 'video', 'pic']\n",
        "path_to_video = 'C:/projects/dyno/imgs/video/polina.mp4'\n",
        "path_to_pics  = 'C:/projects/dyno/imgs/me'\n",
        "source_type = source_types[1]\n",
        "colors = ['blue', 'black', 'green']\n",
        "color = 'blue'\n",
        "label = 0  # 0 - mask, 1 - without, 2 - wrong\n",
        "#--------------\n",
        "\n",
        "filenames = [file for file in  listdir(f'imgs/masks/{color}') if file[-3:] == 'png']\n",
        "masks_raw_all = {c:\n",
        "                 {int(fname[:-4]): cv2.imread(f'imgs/masks/{color}/{fname}', 1) for fname in filenames}\n",
        "             for c in colors}\n",
        "masks_raw = masks_raw_all[color]\n",
        "\n",
        "if source_type == 'cam':\n",
        "    cap = cv2.VideoCapture(0)\n",
        "elif source_type == 'video':\n",
        "    cap = cv2.VideoCapture(path_to_video)\n",
        "\n",
        "t0 = int(time())\n",
        "\n",
        "thos = {'blue': 220, 'black': 100, 'green': 145} # mask thesholds\n",
        "\n",
        "proc = []\n",
        "fa = face_alignment.FaceAlignment(face_alignment.LandmarksType._3D, flip_input=True, device='cuda')\n",
        "\n",
        "\n",
        "if source_type == 'cam':\n",
        "    while True:\n",
        "        _, frame = cap.read()\n",
        "        cv2.imshow(\"Frame\", add_mask(frame))\n",
        "\n",
        "        key = cv2.waitKey(1)\n",
        "        if key == 27:\n",
        "            cv2.destroyAllWindows()\n",
        "            cap.release()\n",
        "            break\n",
        "\n",
        "elif source_type == 'video':\n",
        "    i = 0\n",
        "    path_to_save = '/'.join(path_to_video.split('/')[:-1]) + '/' + path_to_video.split('/')[-1].split('.')[0] + '_OUT.mp4'\n",
        "    # fourcc = cv2.VideoWriter_fourcc(*'MP4V')\n",
        "    width = int(cap.get(3))\n",
        "    height = int(cap.get(4))\n",
        "    out = cv2.VideoWriter(path_to_save, 0x7634706d, 25.0, (width, height))\n",
        "    frame_count = int(cap.get(cv2.CAP_PROP_FRAME_COUNT))\n",
        "    while True:\n",
        "        i += 1\n",
        "        print(f'{i}/{frame_count}', end='\\tfaces: ')\n",
        "        ret, frame = cap.read()\n",
        "        if ret:\n",
        "            try:\n",
        "                frame = add_mask(frame)\n",
        "            except TypeError as e:\n",
        "                print(e)\n",
        "                pass\n",
        "            out.write(frame)\n",
        "            cv2.imshow('frame', frame)\n",
        "            key = cv2.waitKey(1)\n",
        "            if key == 27:\n",
        "                cv2.destroyAllWindows()\n",
        "                cap.release()\n",
        "                out.release()\n",
        "                break\n",
        "        else:\n",
        "            break\n",
        "    cap.release()\n",
        "    out.release()\n",
        "    cv2.destroyAllWindows()\n",
        "\n",
        "elif source_type == 'pic':\n",
        "    errs = 0\n",
        "    path = path_to_pics + '/1/'\n",
        "    save_path = path_to_pics + '/' + str(label)\n",
        "    pic_paths = [path + p for p in listdir(path)]\n",
        "    for pic_path in tqdm(pic_paths):\n",
        "        try:\n",
        "            color = choice(colors)\n",
        "            masks_raw = masks_raw_all[color]\n",
        "            pic_name = pic_path.split('/')[-1]\n",
        "            pic = cv2.imread(pic_path)\n",
        "            cv2.imwrite(save_path+'/'+pic_name, add_mask(pic))\n",
        "        except ValueError:\n",
        "            errs += 1\n",
        "            continue\n"
      ],
      "execution_count": 0,
      "outputs": []
    }
  ]
}